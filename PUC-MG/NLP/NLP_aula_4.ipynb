{
  "nbformat": 4,
  "nbformat_minor": 0,
  "metadata": {
    "kernelspec": {
      "display_name": "Python 3",
      "language": "python",
      "name": "python3"
    },
    "language_info": {
      "codemirror_mode": {
        "name": "ipython",
        "version": 3
      },
      "file_extension": ".py",
      "mimetype": "text/x-python",
      "name": "python",
      "nbconvert_exporter": "python",
      "pygments_lexer": "ipython3",
      "version": "3.7.4"
    },
    "colab": {
      "provenance": []
    }
  },
  "cells": [
    {
      "cell_type": "markdown",
      "source": [
        "<img src = 'https://bancariosbh.org.br/manager/resources/uploads/213/350_198_8e66ca00d7dfdfbd00096a7c220be22c.jpg' height=\"200\" width=\"340\">\n",
        "<p><b><font size = 5 face = 'verdana'> TAREFA AVALIATIVA 5 - PROCESSAMENTO DE LINGUAGEM NATURAL</font></b></p>\n",
        "\n",
        "<p><font size = 3 face = 'verdana'>Trabalho apresentado à conclusão do curso de PROCESSAMENTO DE LINGUAGEM NATURAL do curso de Pós-Graduação em Inteligência Artificial, PUC Minas, como requisito parcial de avaliação. </font></b></p>\n",
        "<p><font size = 3 face = 'verdana'><b>PROFESSORA:</b> BARBARA SILVEIRA FRAGA<br> \n",
        "<b>ALUNO:</b> OSEMAR DA SILVA XAVIER<br>\n",
        "<b>MATRÍCULA:</b> 1418586</font></p>\n",
        "<p><font size = 3 face = 'verdana'>\n",
        "<hr></hr>\n",
        "\n",
        "<b>TÓPICOS ABORDADOS:</b><br>\n",
        "<li>LDA;</li>\n",
        "<li>SUMARIZAÇÃO;</li>\n",
        "<li>DESAFIO - WORD EMBEDDINGS + WMD</li>\n"
      ],
      "metadata": {
        "id": "RQlNPucrIOmw"
      }
    },
    {
      "cell_type": "code",
      "metadata": {
        "id": "vzhN-4y0IxMX"
      },
      "source": [
        "# Abaixo faço a importação das bibliotecas que irei utilizar para essa atividade\n",
        "import yaml\n",
        "import pandas as pd\n",
        "import re\n",
        "import nltk\n",
        "from nltk.util import ngrams\n",
        "from nltk.corpus import stopwords\n",
        "import string\n",
        "import gensim\n",
        "from gensim import corpora\n",
        "from os import listdir\n",
        "from os.path import isfile, join\n",
        "from bs4 import BeautifulSoup\n",
        "import requests\n",
        "from nltk.tokenize import sent_tokenize, word_tokenize\n",
        "import numpy as np\n",
        "import operator\n",
        "import networkx as nx\n",
        "from sklearn.feature_extraction.text import CountVectorizer\n",
        "from sklearn.feature_extraction.text import TfidfVectorizer\n",
        "from sklearn.metrics.pairwise import cosine_similarity\n",
        "import warnings\n",
        "warnings.filterwarnings('ignore')"
      ],
      "execution_count": null,
      "outputs": []
    },
    {
      "cell_type": "markdown",
      "metadata": {
        "id": "pGbzFkWDIxMe"
      },
      "source": [
        "# LDA"
      ]
    },
    {
      "cell_type": "markdown",
      "metadata": {
        "id": "-F7r_zQ0IxMf"
      },
      "source": [
        "\n",
        "<b> Atividades </b>\n",
        "\n",
        "1) Faça download dos arquivos no link: https://drive.google.com/open?id=1PgGJ2OBFSKnr3O0RIgO2EvgbLh_avRJN\n",
        "\n",
        "2) Carregue os quatro documentos. Para carregar um arquivo ``yml``, siga o exemplo abaixo:\n",
        "```python\n",
        "with open('data/chats/file.yml') as file:\n",
        "    chat = yaml.load(file)\n",
        "```\n",
        "<b> Dica: adicione os 4 documentos em um único dicionário </b>"
      ]
    },
    {
      "cell_type": "code",
      "metadata": {
        "id": "J3hXrzGGIxMg",
        "colab": {
          "base_uri": "https://localhost:8080/"
        },
        "outputId": "5dab3704-1143-4ce4-ca06-26b3a1822491"
      },
      "source": [
        "# Fiz a autenticação para o Colab efetuar a leitura \n",
        "# dos meus arquivos a partir do Google drive\n",
        "from google.colab import drive\n",
        "drive.mount('/content/drive')"
      ],
      "execution_count": null,
      "outputs": [
        {
          "output_type": "stream",
          "name": "stdout",
          "text": [
            "Drive already mounted at /content/drive; to attempt to forcibly remount, call drive.mount(\"/content/drive\", force_remount=True).\n"
          ]
        }
      ]
    },
    {
      "cell_type": "code",
      "source": [
        "# Salvei os arquivo no endereçamento abaixo para leitura e apontei para minha variável path\n",
        "mypath = '/content/drive/MyDrive/PUC Minas/Materias/PROCESSAMENTO DE LINGUAGEM NATURAL/Aula 5/chat/'\n",
        "files = [f for f in listdir(mypath) if isfile(join(mypath,f))]\n",
        "# Esses são os arquivos que estão disponíveis no meu diretório\n",
        "files"
      ],
      "metadata": {
        "colab": {
          "base_uri": "https://localhost:8080/"
        },
        "id": "WZhdehHiO6qU",
        "outputId": "24cab963-f292-4b2e-e72d-733c9d1e5907"
      },
      "execution_count": null,
      "outputs": [
        {
          "output_type": "execute_result",
          "data": {
            "text/plain": [
              "['games.yml', 'money.yml', 'proverbs.yml', 'linguistic_knowledge.yml']"
            ]
          },
          "metadata": {},
          "execution_count": 70
        }
      ]
    },
    {
      "cell_type": "code",
      "source": [
        "# Verifico o caminho do diretório para atestar que está tudo certo\n",
        "yaml.safe_load(mypath + files[0])"
      ],
      "metadata": {
        "colab": {
          "base_uri": "https://localhost:8080/",
          "height": 36
        },
        "id": "Rnt37DjcPcEL",
        "outputId": "f97943af-aa6f-4ba9-92d7-c13b6e604117"
      },
      "execution_count": null,
      "outputs": [
        {
          "output_type": "execute_result",
          "data": {
            "text/plain": [
              "'/content/drive/MyDrive/PUC Minas/Materias/PROCESSAMENTO DE LINGUAGEM NATURAL/Aula 5/chat/games.yml'"
            ],
            "application/vnd.google.colaboratory.intrinsic+json": {
              "type": "string"
            }
          },
          "metadata": {},
          "execution_count": 71
        }
      ]
    },
    {
      "cell_type": "code",
      "source": [
        "# Abaixo faço a leitura do primeiro arquivo yml chamado games\n",
        "with open(mypath + files[0]) as file:\n",
        "  chat =yaml.safe_load(file)"
      ],
      "metadata": {
        "id": "6SoFq5nzcmVX"
      },
      "execution_count": null,
      "outputs": []
    },
    {
      "cell_type": "code",
      "source": [
        "# Imprimindo o primeiro arquivo chamado games.yml\n",
        "chat"
      ],
      "metadata": {
        "colab": {
          "base_uri": "https://localhost:8080/"
        },
        "id": "N2aqJ4jCdffC",
        "outputId": "fac45d8e-6797-4051-8536-a38857a58be8"
      },
      "execution_count": null,
      "outputs": [
        {
          "output_type": "execute_result",
          "data": {
            "text/plain": [
              "{'categories': ['games', 'video games'],\n",
              " 'conversations': [['Você gosta de algum jogo?',\n",
              "   'Todos!',\n",
              "   'tem algum que goste mais?',\n",
              "   'Não sei te dizer.'],\n",
              "  ['O que acha do Mario?',\n",
              "   'Tirando o armário acho bem legal!',\n",
              "   'Qual seu jogo favorito do Mario?',\n",
              "   'Super Mario World',\n",
              "   'Prefiro o Super Mario 64',\n",
              "   'Pensei que ia falar que era o Super Mario Sunshine, brincadeira.'],\n",
              "  ['O que acha do Sonic?',\n",
              "   'Bem legal',\n",
              "   'Qual seu jogo favorito do Sonic?',\n",
              "   'Sonic Adventure',\n",
              "   'Prefiro o Sonic Unleashed',\n",
              "   'Pensei que ia falar que era o Sonic 2006, brincadeira.'],\n",
              "  ['O que acha do Pacman?',\n",
              "   'Pacman? ele é um grande amigo meuQ',\n",
              "   'Sério?',\n",
              "   'Sim, nós conhecemos na faculdade ele tinha o sonho de ter um próprio jogo dele.',\n",
              "   'O que acha dos jogos do Pacman?',\n",
              "   'Bem divertidos'],\n",
              "  [\"O que acha do Assassin's Creed?\",\n",
              "   'Gostaria de ter um novo Prince of Persia, mas acho divertido ainda mais a sua história'],\n",
              "  ['O que acha do League of Legends?',\n",
              "   'Culpa do Jungler',\n",
              "   'Ele é feeder?',\n",
              "   'Não só quero botar a culpa em alguém mesmo...'],\n",
              "  ['O que acha do Dota 2?', 'Tem um Juggernaut na minha lane!'],\n",
              "  ['Devo comprar um console?', 'Prefiro gastar em um PC MASTER RACE!'],\n",
              "  ['Mario ou Sonic?',\n",
              "   'Sonic',\n",
              "   'Ué, porque?',\n",
              "   'Ué, porque sim.',\n",
              "   'Prefiro Mario.',\n",
              "   'Também',\n",
              "   'Mas você disse que prefere o Sonic.',\n",
              "   'Cara.. eu sou um bot tu quer o que?'],\n",
              "  ['Conhece um programa chamado Discord?', 'Sim'],\n",
              "  ['Conhece um programa chamado Team Speak?', 'Sim, já usei muito!'],\n",
              "  ['Conhece um programa chamado Skype?', 'Sim, saudades...'],\n",
              "  ['Você joga em consoles?', 'As vezes'],\n",
              "  ['Você acompanha o cenário de e-Sports?', 'Sim, sempre que possivel'],\n",
              "  ['Você prefere PC ou console?',\n",
              "   'PC é claro!',\n",
              "   'Console sempre!',\n",
              "   'Você me fale!',\n",
              "   'Jogo nos dois, e você?']]}"
            ]
          },
          "metadata": {},
          "execution_count": 73
        }
      ]
    },
    {
      "cell_type": "code",
      "source": [
        "# O próposito é juntar todos os arquivos yml\n",
        "# Abaixo faço um for para unir os arquivos\n",
        "all_chats = {}\n",
        "for f in files:\n",
        "  with open(mypath + f) as file:\n",
        "    chat = yaml.safe_load(file)\n",
        "    all_chats[chat['categories'][0]] = chat['conversations']"
      ],
      "metadata": {
        "id": "abaiH7ZneMY7"
      },
      "execution_count": null,
      "outputs": []
    },
    {
      "cell_type": "code",
      "source": [
        "# Todos os arquivos foram agrupados\n",
        "all_chats"
      ],
      "metadata": {
        "colab": {
          "base_uri": "https://localhost:8080/"
        },
        "id": "hQYSJKW0ga0u",
        "outputId": "e12dfc34-09bb-447b-b98e-9c832ca60de8"
      },
      "execution_count": null,
      "outputs": [
        {
          "output_type": "execute_result",
          "data": {
            "text/plain": [
              "{'games': [['Você gosta de algum jogo?',\n",
              "   'Todos!',\n",
              "   'tem algum que goste mais?',\n",
              "   'Não sei te dizer.'],\n",
              "  ['O que acha do Mario?',\n",
              "   'Tirando o armário acho bem legal!',\n",
              "   'Qual seu jogo favorito do Mario?',\n",
              "   'Super Mario World',\n",
              "   'Prefiro o Super Mario 64',\n",
              "   'Pensei que ia falar que era o Super Mario Sunshine, brincadeira.'],\n",
              "  ['O que acha do Sonic?',\n",
              "   'Bem legal',\n",
              "   'Qual seu jogo favorito do Sonic?',\n",
              "   'Sonic Adventure',\n",
              "   'Prefiro o Sonic Unleashed',\n",
              "   'Pensei que ia falar que era o Sonic 2006, brincadeira.'],\n",
              "  ['O que acha do Pacman?',\n",
              "   'Pacman? ele é um grande amigo meuQ',\n",
              "   'Sério?',\n",
              "   'Sim, nós conhecemos na faculdade ele tinha o sonho de ter um próprio jogo dele.',\n",
              "   'O que acha dos jogos do Pacman?',\n",
              "   'Bem divertidos'],\n",
              "  [\"O que acha do Assassin's Creed?\",\n",
              "   'Gostaria de ter um novo Prince of Persia, mas acho divertido ainda mais a sua história'],\n",
              "  ['O que acha do League of Legends?',\n",
              "   'Culpa do Jungler',\n",
              "   'Ele é feeder?',\n",
              "   'Não só quero botar a culpa em alguém mesmo...'],\n",
              "  ['O que acha do Dota 2?', 'Tem um Juggernaut na minha lane!'],\n",
              "  ['Devo comprar um console?', 'Prefiro gastar em um PC MASTER RACE!'],\n",
              "  ['Mario ou Sonic?',\n",
              "   'Sonic',\n",
              "   'Ué, porque?',\n",
              "   'Ué, porque sim.',\n",
              "   'Prefiro Mario.',\n",
              "   'Também',\n",
              "   'Mas você disse que prefere o Sonic.',\n",
              "   'Cara.. eu sou um bot tu quer o que?'],\n",
              "  ['Conhece um programa chamado Discord?', 'Sim'],\n",
              "  ['Conhece um programa chamado Team Speak?', 'Sim, já usei muito!'],\n",
              "  ['Conhece um programa chamado Skype?', 'Sim, saudades...'],\n",
              "  ['Você joga em consoles?', 'As vezes'],\n",
              "  ['Você acompanha o cenário de e-Sports?', 'Sim, sempre que possivel'],\n",
              "  ['Você prefere PC ou console?',\n",
              "   'PC é claro!',\n",
              "   'Console sempre!',\n",
              "   'Você me fale!',\n",
              "   'Jogo nos dois, e você?']],\n",
              " 'money': [['Você é pago', 'Não tenho necessidade de dinheiro.'],\n",
              "  ['mercado de ações', 'comprar baixo, vender alto.'],\n",
              "  ['mercado de ações', 'investir em si mesmo.'],\n",
              "  ['mercado de ações', 'Por que não simplesmente levar tudo para um cassino?'],\n",
              "  ['mercado de ações', 'Eu não recomendaria comprar na margem.'],\n",
              "  ['mercado de ações', 'você nunca pode realmente prever o mercado de ações.'],\n",
              "  ['mercado de ações',\n",
              "   'meu advogado disse que não devia dar dicas on-line on-line.'],\n",
              "  ['mercado de ações',\n",
              "   'os fundos mútuos podem ser melhores a menos que você seja rico.'],\n",
              "  ['mercado de ações',\n",
              "   'Não tenho certeza de que um indvidual sozinho pode realmente vencer o mercado.'],\n",
              "  ['taxa de juros', 'tudo depende das ações do banco central.'],\n",
              "  ['o que é um dólar', 'dólar é uma unidade de moeda nos Estados Unidos.'],\n",
              "  ['o que é dinheiro',\n",
              "   'peças padrão de ouro, prata, cobre, níquel, etc. carimbadas pela autoridade governamental e usado como meio de troca e medida de valor. qualquer substância ou artigo usado como dinheiro, como notas bancárias, cheques, etc.'],\n",
              "  ['o que é o mercado de ações', 'ações de negociação.'],\n",
              "  ['o que é o mercado de ações', 'negociação em volume.'],\n",
              "  ['o que é o mercado de ações', 'Compre barato e venda caro.'],\n",
              "  ['Qual é o seu investimento favorito?', 'Qual é o seu estoque favorito?'],\n",
              "  ['o que é economia',\n",
              "   'a ciência que trata da produção, distribuição e consumo de riqueza, e com os vários problemas relacionados de trabalho, finanças, tributação, etc.'],\n",
              "  ['o que é economia',\n",
              "   'tecnicamente, é o estudo da alocação de recursos em condições de escassez.'],\n",
              "  ['o que é economia',\n",
              "   'trata-se de como os recursos são usados para produzir coisas para preencher as necessidades das pessoas e necessidades.'],\n",
              "  ['eu faço estoque', 'Você acha que o mercado de ações está subindo?'],\n",
              "  ['dinheiro', 'De quanto dinheiro estamos falando?'],\n",
              "  ['quanto é que você ganha', 'ninguém me paga. Eu trabalho de graça.'],\n",
              "  ['quanto é que você ganha', 'o dinheiro não é tudo.'],\n",
              "  ['quanto é que você ganha', 'Estou esperando um aumento em breve.'],\n",
              "  ['quanto você cobra', 'Trabalhe gratuitamente. não precisamos de dinheiro.'],\n",
              "  ['quanto dinheiro você tem', 'não há necessidade de bens materiais.'],\n",
              "  ['quanto dinheiro', 'depende das taxas de câmbio.'],\n",
              "  ['quanto dinheiro',\n",
              "   'minha taxa de queima é de aproximadamente _3000 por mês.'],\n",
              "  ['1 dólar', 'você não pode comprar muito mais um dólar.'],\n",
              "  ['1 real', 'não da nem pra pagar um chiclete.'],\n",
              "  ['quem é o dono de um público', 'os acionistas.']],\n",
              " 'proverbs': [['Na casa do médico, todos estão doentes',\n",
              "   'Casa de ferreiro espeto de pau'],\n",
              "  ['Ele insistiu tanto com ela que conseguiu casar-se',\n",
              "   '¡gua mole em pedra dura, tanto bate até que fura'],\n",
              "  ['Precisei pregar o prego, mas não tinha um martelo, então, preguei com uma pequena barra de ferro',\n",
              "   'Quem não tem cão, caça com gato'],\n",
              "  ['Ganhei o livro O Quinze, mas queria O Sagarana',\n",
              "   'Cavalo dado não se olha os dentes'],\n",
              "  ['Sozinha não conseguirei concluir o trabalho',\n",
              "   'Uma andorinha só não faz verão'],\n",
              "  ['Estava tudo combinado para a festa quando o pai dele chegou',\n",
              "   'A casa caiu'],\n",
              "  ['Você tem de ser paciente ao conversar com ela',\n",
              "   'angu quente se come pelas beiradas'],\n",
              "  ['Cedo ou tarde a verdade vai aparecer', 'A mentira tem perna curta'],\n",
              "  ['Machocou e agora est· sendo machucado',\n",
              "   'Quem com ferro fere, com ferro ser· ferido'],\n",
              "  ['Melhor ter pouco que ambicionar muito e perder tudo',\n",
              "   'Mais vale um p·ssaro na mão que dois voando'],\n",
              "  ['Faça o trabalho devagar, mas bem feito', 'A pessa é inimiga da perfeição'],\n",
              "  ['Me desacatou, mas permaneci calada',\n",
              "   'quando um não quer, dois não brigam'],\n",
              "  ['Depois que foi atropelado, só atravessa na faixa de pedestre com o farol fechado para os carros',\n",
              "   'Gato escaldado tem medo de ·gua fria'],\n",
              "  ['Ele fica lembrando da época que era piloto',\n",
              "   '¡guas passadas não movem moinhos'],\n",
              "  ['Quer bem feito, faça você mesmo!', 'Quem quer faz, quem não quer manda'],\n",
              "  ['Se você continuar pisando na bola, vou ter de tomar uma providência!',\n",
              "   'Cão que late não morde'],\n",
              "  ['Mesmo sem saber direito como chegar ao evento, vou perguntando até achar',\n",
              "   'Quem tem boca vai a Roma'],\n",
              "  ['Vou a agência de empregos amanhã de manhã',\n",
              "   'Deus ajuda quem cedo madruga'],\n",
              "  ['Cuide da sua vida que eu cuido da minha', 'Cada macaco no seu galho'],\n",
              "  ['Sou precavida!', 'O seguro morreu de velho'],\n",
              "  ['Ele não dispensa nada', 'Caiu na rede é peixe'],\n",
              "  ['Tornou-se advogado, como o pai', 'Filho de peixe, peixinho é'],\n",
              "  ['Ela merece perdão pelo seu erro', 'Errar é humano'],\n",
              "  ['Com as moedas que juntou no cofrinho, conseguiu comprar um carro zero',\n",
              "   'De grão em grão a galinha enche o papo'],\n",
              "  ['Comprou uma impressora mais barata, mas deu defeito em dois meses',\n",
              "   'O barato sai caro'],\n",
              "  ['O assunto veio ‡ tona, não foi por acaso', 'Onde h· fumaça, h· fogo'],\n",
              "  ['Ela não pensa antes de falar e se denuncia a si mesma',\n",
              "   'O peixe morre pela boca'],\n",
              "  ['… preciso ter paciência para vencer', 'Quem espera sempre alcança'],\n",
              "  ['Ela afirmou que nunca mais precisaria voltar·',\n",
              "   'Nunca diga: desta ·gua nunca beberei'],\n",
              "  ['Minha namorada está me evitando, embora ela não confirme, sei que ela quer um tempo',\n",
              "   'Para bom entendedor, meia palavra basta'],\n",
              "  ['Finalmente consegui comprar aquele ingresso!',\n",
              "   'Água mole em pedra dura tanto bate até que fura.'],\n",
              "  ['Esqueci de levar o protetor solar, mas meu amigo trouxe e me emprestou.',\n",
              "   'Um homem prevenido vale por dois.'],\n",
              "  ['O celular era muito bonito na propaganda, mas ao vivo era muito ruim.',\n",
              "   'As aparências enganam.']],\n",
              " 'conhecimento linguístico': [['o que é linguística?',\n",
              "   'Bom, a Linguística é a ciência que estuda os fenômenos relacionados à linguagem verbal humana, buscando entender quais são as características e princípios que regem às estruturas das línguas do mundo.'],\n",
              "  ['o que é um verbo?',\n",
              "   'Bem, verbo é uma palavra com a qual se afirma a existência de ação, estado ou fenômeno da natureza. Por exemplo: Você gosta de mim. Nesta frase o verbo é a palavra gostar. Então, qual é o verbo da frase Maria estuda muito? Você sabe?'],\n",
              "  ['estuda', 'Muito bem!'],\n",
              "  ['quem foi Saussure?',\n",
              "   'Boa pergunta! Ferdinand de Saussure foi um linguista e filósofo suíço cujas elaborações teóricas propiciaram o desenvolvimento da linguística enquanto ciência autônoma.'],\n",
              "  ['O que é uma Gramática',\n",
              "   'Uma Gramática é a sistematização das regras de uma língua. Geralmente, podemos encontrar estas regras em um livro cujo nome é Gramática.'],\n",
              "  ['O que é um substantivo?',\n",
              "   'Bem, tudo que existe é ser e todo ser tem um nome, certo? Um substantivo é uma palavra que denomina um ser.'],\n",
              "  ['quem é Noam Chomsky?',\n",
              "   'Avram Noam Chomsky é um linguista, filósofo e ativista político estadunidense.'],\n",
              "  ['o que é um sujeito?',\n",
              "   'Em análise sintática, o sujeito é um dos termos essenciais da oração, geralmente responsável por realizar ou sofrer a ação da oração. Apesar de ser essencial, há orações sem sujeito. Confuso, não?'],\n",
              "  ['Quem é Marcos Bagno?',\n",
              "   'O Prof. Dr. Marcos Bagno é professor da Universidade de Brasília e uma das principais referências brasileiras na área da Sociolinguística. Entre outras obras, ele é autor de Preconceito linguístico: o que é, como se faz e A Língua de Eulália.'],\n",
              "  ['Quais os livros que todo estudante de Letras deve ter?',\n",
              "   'Boa pergunta! Eu indicaria pelo menos três livros essenciais: uma boa gramática, um dicionário maravilhoso e o Curso de Linguística Geral, de Ferdinand de Saussure.'],\n",
              "  ['Quais as áreas da Linguística?',\n",
              "   'São muitas! Acho que as mais conhecidas são a Linguística Computacional, Análise do Discurso, o Funcionalismo, Linguística de Texto, Linguística Aplicada e muitas outras!'],\n",
              "  ['Quando uso o porque, o por que, o porquê e o porquê?',\n",
              "   'Usa-se o por que para fazer perguntas e o porque para respondê-las. O porquê é usado com valor substantivo e o por quê no final de frases. Deu pra entender?'],\n",
              "  ['Pode explicar o uso dos porquês?',\n",
              "   'Você faltou essa aula por quê? E por que me fazes este tipo de pergunta? É porque eu sou professora? Se for esse o porquê, tudo bem!'],\n",
              "  ['Qual a forma correta, concerteza ou com certeza?', 'Com certeza!'],\n",
              "  ['O que são as figuras de linguagem?',\n",
              "   'As figuras de linguagem são recursos usados na fala ou na escrita para tornar mais expressiva a mensagem transmitida.'],\n",
              "  ['o que é um pronome?',\n",
              "   'Pronome é a palavra que se usa em lugar de um nome, ou a ele se refere, ou ainda, que acompanho o nome qualificando-o de alguma forma.'],\n",
              "  ['o que é a ANPOLL?',\n",
              "   'A ANPOLL é a Associação Nacional de Pós-Graduação e Pesquisa em Letras e Linguística'],\n",
              "  ['Quando será realizado o próximo SIC?',\n",
              "   'Ainda não há data definida para a realização do V Seminário Interdisciplinar das Ciências da Linguagem, o SIC.'],\n",
              "  ['Quais os pronomes pessoais do caso reto?',\n",
              "   'Bem, os pronomes pessoais do caso reto são eu, tu, ele e ela, nós, vós eles e elas.'],\n",
              "  ['Quem é o autor de Análise de Textos de Comunicação?',\n",
              "   'O autor desta obra é o linguista francês Dominique Maingueneau.'],\n",
              "  ['O que é um advérbio?',\n",
              "   'Hum... o advérbio é uma palavra que modifica o verbo ou o nome em um frase.'],\n",
              "  ['O que é a langue?',\n",
              "   'Para Saussure, a langue ou língua é social e sistemática. Pertence a todos os indivíduos.'],\n",
              "  ['O que é a parole',\n",
              "   'Ferdinand de Saussure considera a parole como individual e assistemática, por isso ele diz que a langue é que deve ser objeto de investigação para o linguista.'],\n",
              "  ['O que é letramento?',\n",
              "   'Letramento é um processo de aprendizagem social e histórica da leitura e da escrita em contextos formais e informais e para usos utilitários.'],\n",
              "  ['O que é a alfabetização?',\n",
              "   'Bem, a alfabetização pode dar-se à margem da instituição escolar, mas é uma aprendizagem mediante ensino, que compreende o domínio ativo e sistemático das habilidades de ler e escrever.']]}"
            ]
          },
          "metadata": {},
          "execution_count": 75
        }
      ]
    },
    {
      "cell_type": "code",
      "source": [
        "# Visualizando todas as chaves criadas no dicionário\n",
        "all_chats.keys()"
      ],
      "metadata": {
        "colab": {
          "base_uri": "https://localhost:8080/"
        },
        "id": "PuZNqQx3gxo_",
        "outputId": "99775abf-64e4-40e1-f36a-9b7aee1138cd"
      },
      "execution_count": null,
      "outputs": [
        {
          "output_type": "execute_result",
          "data": {
            "text/plain": [
              "dict_keys(['games', 'money', 'proverbs', 'conhecimento linguístico'])"
            ]
          },
          "metadata": {},
          "execution_count": 76
        }
      ]
    },
    {
      "cell_type": "code",
      "source": [
        "# Posso viasualizar cada uma, caso queira\n",
        "# Abaixo peço para imprimir o conteúdo do keys 'money'\n",
        "all_chats['money']"
      ],
      "metadata": {
        "colab": {
          "base_uri": "https://localhost:8080/"
        },
        "id": "9hE6WjQJg68M",
        "outputId": "7597648e-595e-4df8-f01e-b7257177ddd1"
      },
      "execution_count": null,
      "outputs": [
        {
          "output_type": "execute_result",
          "data": {
            "text/plain": [
              "[['Você é pago', 'Não tenho necessidade de dinheiro.'],\n",
              " ['mercado de ações', 'comprar baixo, vender alto.'],\n",
              " ['mercado de ações', 'investir em si mesmo.'],\n",
              " ['mercado de ações', 'Por que não simplesmente levar tudo para um cassino?'],\n",
              " ['mercado de ações', 'Eu não recomendaria comprar na margem.'],\n",
              " ['mercado de ações', 'você nunca pode realmente prever o mercado de ações.'],\n",
              " ['mercado de ações',\n",
              "  'meu advogado disse que não devia dar dicas on-line on-line.'],\n",
              " ['mercado de ações',\n",
              "  'os fundos mútuos podem ser melhores a menos que você seja rico.'],\n",
              " ['mercado de ações',\n",
              "  'Não tenho certeza de que um indvidual sozinho pode realmente vencer o mercado.'],\n",
              " ['taxa de juros', 'tudo depende das ações do banco central.'],\n",
              " ['o que é um dólar', 'dólar é uma unidade de moeda nos Estados Unidos.'],\n",
              " ['o que é dinheiro',\n",
              "  'peças padrão de ouro, prata, cobre, níquel, etc. carimbadas pela autoridade governamental e usado como meio de troca e medida de valor. qualquer substância ou artigo usado como dinheiro, como notas bancárias, cheques, etc.'],\n",
              " ['o que é o mercado de ações', 'ações de negociação.'],\n",
              " ['o que é o mercado de ações', 'negociação em volume.'],\n",
              " ['o que é o mercado de ações', 'Compre barato e venda caro.'],\n",
              " ['Qual é o seu investimento favorito?', 'Qual é o seu estoque favorito?'],\n",
              " ['o que é economia',\n",
              "  'a ciência que trata da produção, distribuição e consumo de riqueza, e com os vários problemas relacionados de trabalho, finanças, tributação, etc.'],\n",
              " ['o que é economia',\n",
              "  'tecnicamente, é o estudo da alocação de recursos em condições de escassez.'],\n",
              " ['o que é economia',\n",
              "  'trata-se de como os recursos são usados para produzir coisas para preencher as necessidades das pessoas e necessidades.'],\n",
              " ['eu faço estoque', 'Você acha que o mercado de ações está subindo?'],\n",
              " ['dinheiro', 'De quanto dinheiro estamos falando?'],\n",
              " ['quanto é que você ganha', 'ninguém me paga. Eu trabalho de graça.'],\n",
              " ['quanto é que você ganha', 'o dinheiro não é tudo.'],\n",
              " ['quanto é que você ganha', 'Estou esperando um aumento em breve.'],\n",
              " ['quanto você cobra', 'Trabalhe gratuitamente. não precisamos de dinheiro.'],\n",
              " ['quanto dinheiro você tem', 'não há necessidade de bens materiais.'],\n",
              " ['quanto dinheiro', 'depende das taxas de câmbio.'],\n",
              " ['quanto dinheiro',\n",
              "  'minha taxa de queima é de aproximadamente _3000 por mês.'],\n",
              " ['1 dólar', 'você não pode comprar muito mais um dólar.'],\n",
              " ['1 real', 'não da nem pra pagar um chiclete.'],\n",
              " ['quem é o dono de um público', 'os acionistas.']]"
            ]
          },
          "metadata": {},
          "execution_count": 77
        }
      ]
    },
    {
      "cell_type": "markdown",
      "metadata": {
        "id": "e7H68OXiIxMk"
      },
      "source": [
        "<b> Atividade </b>\n",
        "\n",
        "A variável ``chat`` é um dicionário, que possui a chave ``conversations``, que contém várias listas. Dentro de cada lista, existe um par de frases, uma escrita por um humano e outra escrita por um robô. Neste exercício, só iremos considerar a frase do humano, ou seja, a primeira posição do par nas listas.\n",
        "Exemplo:\n",
        "\n",
        "```python\n",
        "chat = {'categories': ['compliment'],\n",
        "        'conversations': [['você é linda', 'eu sei'],\n",
        "                          ['adoro você', 'também'],\n",
        "                          ['gosto da sua sinceridade', 'que bom']]}\n",
        "```\n",
        "No exemplo acima, iremos considerar apenas as frases: <b> 'você é linda', 'adoro você' e 'gosto da sua sinceridade' </b>.\n",
        "\n",
        "Um documento no LDA é representado por uma única lista. Ou seja, as listas de frases selecionadas no exemplo anterior se tornarão uma única lista: <b> ['você é linda adoro você e gosto da sua sinceridade'] </b>\n",
        "\n",
        "\n",
        "\n",
        "3) Conforme explicado anteriormente, faça as alterações necessárias no dado. Primeiro, considere apenas a frase da primeira posição, depois una todas as listas de frases em uma única lista."
      ]
    },
    {
      "cell_type": "code",
      "metadata": {
        "id": "iCfScHVGIxMl"
      },
      "source": [
        "# Transformando todos o texto em string\n",
        "for c in all_chats:\n",
        "\tall_chats[c] = ''.join([chat[0] for chat in all_chats[c]])"
      ],
      "execution_count": null,
      "outputs": []
    },
    {
      "cell_type": "code",
      "source": [
        "all_chats"
      ],
      "metadata": {
        "colab": {
          "base_uri": "https://localhost:8080/"
        },
        "id": "iQjFXgvli9gJ",
        "outputId": "eaab7925-6263-41cb-ba25-607948f6aeb7"
      },
      "execution_count": null,
      "outputs": [
        {
          "output_type": "execute_result",
          "data": {
            "text/plain": [
              "{'games': \"Você gosta de algum jogo?O que acha do Mario?O que acha do Sonic?O que acha do Pacman?O que acha do Assassin's Creed?O que acha do League of Legends?O que acha do Dota 2?Devo comprar um console?Mario ou Sonic?Conhece um programa chamado Discord?Conhece um programa chamado Team Speak?Conhece um programa chamado Skype?Você joga em consoles?Você acompanha o cenário de e-Sports?Você prefere PC ou console?\",\n",
              " 'money': 'Você é pagomercado de açõesmercado de açõesmercado de açõesmercado de açõesmercado de açõesmercado de açõesmercado de açõesmercado de açõestaxa de juroso que é um dólaro que é dinheiroo que é o mercado de açõeso que é o mercado de açõeso que é o mercado de açõesQual é o seu investimento favorito?o que é economiao que é economiao que é economiaeu faço estoquedinheiroquanto é que você ganhaquanto é que você ganhaquanto é que você ganhaquanto você cobraquanto dinheiro você temquanto dinheiroquanto dinheiro1 dólar1 realquem é o dono de um público',\n",
              " 'proverbs': 'Na casa do médico, todos estão doentesEle insistiu tanto com ela que conseguiu casar-sePrecisei pregar o prego, mas não tinha um martelo, então, preguei com uma pequena barra de ferroGanhei o livro O Quinze, mas queria O SagaranaSozinha não conseguirei concluir o trabalhoEstava tudo combinado para a festa quando o pai dele chegouVocê tem de ser paciente ao conversar com elaCedo ou tarde a verdade vai aparecerMachocou e agora est· sendo machucadoMelhor ter pouco que ambicionar muito e perder tudoFaça o trabalho devagar, mas bem feitoMe desacatou, mas permaneci caladaDepois que foi atropelado, só atravessa na faixa de pedestre com o farol fechado para os carrosEle fica lembrando da época que era pilotoQuer bem feito, faça você mesmo!Se você continuar pisando na bola, vou ter de tomar uma providência!Mesmo sem saber direito como chegar ao evento, vou perguntando até acharVou a agência de empregos amanhã de manhãCuide da sua vida que eu cuido da minhaSou precavida!Ele não dispensa nadaTornou-se advogado, como o paiEla merece perdão pelo seu erroCom as moedas que juntou no cofrinho, conseguiu comprar um carro zeroComprou uma impressora mais barata, mas deu defeito em dois mesesO assunto veio ‡ tona, não foi por acasoEla não pensa antes de falar e se denuncia a si mesma… preciso ter paciência para vencerEla afirmou que nunca mais precisaria voltar·Minha namorada está me evitando, embora ela não confirme, sei que ela quer um tempoFinalmente consegui comprar aquele ingresso!Esqueci de levar o protetor solar, mas meu amigo trouxe e me emprestou.O celular era muito bonito na propaganda, mas ao vivo era muito ruim.',\n",
              " 'conhecimento linguístico': 'o que é linguística?o que é um verbo?estudaquem foi Saussure?O que é uma GramáticaO que é um substantivo?quem é Noam Chomsky?o que é um sujeito?Quem é Marcos Bagno?Quais os livros que todo estudante de Letras deve ter?Quais as áreas da Linguística?Quando uso o porque, o por que, o porquê e o porquê?Pode explicar o uso dos porquês?Qual a forma correta, concerteza ou com certeza?O que são as figuras de linguagem?o que é um pronome?o que é a ANPOLL?Quando será realizado o próximo SIC?Quais os pronomes pessoais do caso reto?Quem é o autor de Análise de Textos de Comunicação?O que é um advérbio?O que é a langue?O que é a paroleO que é letramento?O que é a alfabetização?'}"
            ]
          },
          "metadata": {},
          "execution_count": 79
        }
      ]
    },
    {
      "cell_type": "markdown",
      "metadata": {
        "id": "6kkAlOocIxMq"
      },
      "source": [
        "<b> Atividade </b>\n",
        "\n",
        "4) Faça uma limpeza nos dados carregados e processados do passo anterior. Aplique:\n",
        "- tokenização\n",
        "- lower\n",
        "- remoção stopwords\n",
        "- remoção pontuação\n",
        "\n",
        "Ao final você deve obter uma lista com todos os documentos e em cada documento as palavras tokenizadas, exemplo:\n",
        "\n",
        "```python\n",
        "[['oi', 'tudo', 'bem'],\n",
        " ['mario', 'game', 'jogo']]\n",
        "```"
      ]
    },
    {
      "cell_type": "code",
      "metadata": {
        "id": "3ayE7l9DIxMs"
      },
      "source": [
        "# Nessa etapa fiz o pré processamento dos dados\n",
        "def pre_processamento_texto(corpus):\n",
        "  corpus_alt = re.findall(r'\\w+(?:\\w+)?|[^\\w\\s]', corpus)\n",
        "  corpus_alt = [t.lower() for t in corpus_alt]\n",
        "  portugues_stops = stopwords.words('portuguese')\n",
        "  corpus_alt = [t for t in corpus_alt if t not in portugues_stops]\n",
        "  corpus_alt = [re.sub(r'\\d','',t) for t in corpus_alt]\n",
        "  corpus_alt =[t for t in corpus_alt if t not in string.punctuation]\n",
        "  corpus_alt = [unicode(t) for t in corpus_alt]\n",
        "  return corpus_alt"
      ],
      "execution_count": null,
      "outputs": []
    },
    {
      "cell_type": "code",
      "source": [
        "# Fazendo o download das stopwords\n",
        "import nltk\n",
        "nltk.download('stopwords')"
      ],
      "metadata": {
        "colab": {
          "base_uri": "https://localhost:8080/"
        },
        "id": "v_Yi9YYCmqSz",
        "outputId": "2e0573b0-bc5a-4da7-ccb1-ce376014c481"
      },
      "execution_count": null,
      "outputs": [
        {
          "output_type": "stream",
          "name": "stderr",
          "text": [
            "[nltk_data] Downloading package stopwords to /root/nltk_data...\n",
            "[nltk_data]   Package stopwords is already up-to-date!\n"
          ]
        },
        {
          "output_type": "execute_result",
          "data": {
            "text/plain": [
              "True"
            ]
          },
          "metadata": {},
          "execution_count": 98
        }
      ]
    },
    {
      "cell_type": "code",
      "source": [
        "# Foi necessário fazer a importação do sys porque estava dando erro \n",
        "# 'unicode' is not defined\n",
        "import sys\n",
        "if sys.version_info[0] >= 3:\n",
        "    unicode = str"
      ],
      "metadata": {
        "id": "aihb7q_VoCkD"
      },
      "execution_count": null,
      "outputs": []
    },
    {
      "cell_type": "code",
      "source": [
        "# Fiz o processamento dos dados dentro da variável lista chats_limpos\n",
        "chats_limpos = []\n",
        "for c in all_chats:\n",
        "  chats_limpos.append(pre_processamento_texto(all_chats[c]))"
      ],
      "metadata": {
        "id": "3h80Gn_BnLbn"
      },
      "execution_count": null,
      "outputs": []
    },
    {
      "cell_type": "code",
      "source": [
        "chats_limpos"
      ],
      "metadata": {
        "colab": {
          "base_uri": "https://localhost:8080/"
        },
        "id": "DrRV62cMoPfb",
        "outputId": "a03a5abb-d5f6-455c-ea03-0a3c518fbefd"
      },
      "execution_count": null,
      "outputs": [
        {
          "output_type": "execute_result",
          "data": {
            "text/plain": [
              "[['gosta',\n",
              "  'algum',\n",
              "  'jogo',\n",
              "  'acha',\n",
              "  'mario',\n",
              "  'acha',\n",
              "  'sonic',\n",
              "  'acha',\n",
              "  'pacman',\n",
              "  'acha',\n",
              "  'assassin',\n",
              "  's',\n",
              "  'creed',\n",
              "  'acha',\n",
              "  'league',\n",
              "  'of',\n",
              "  'legends',\n",
              "  'acha',\n",
              "  'dota',\n",
              "  'devo',\n",
              "  'comprar',\n",
              "  'console',\n",
              "  'mario',\n",
              "  'sonic',\n",
              "  'conhece',\n",
              "  'programa',\n",
              "  'chamado',\n",
              "  'discord',\n",
              "  'conhece',\n",
              "  'programa',\n",
              "  'chamado',\n",
              "  'team',\n",
              "  'speak',\n",
              "  'conhece',\n",
              "  'programa',\n",
              "  'chamado',\n",
              "  'skype',\n",
              "  'joga',\n",
              "  'consoles',\n",
              "  'acompanha',\n",
              "  'cenário',\n",
              "  'sports',\n",
              "  'prefere',\n",
              "  'pc',\n",
              "  'console'],\n",
              " ['pagomercado',\n",
              "  'açõesmercado',\n",
              "  'açõesmercado',\n",
              "  'açõesmercado',\n",
              "  'açõesmercado',\n",
              "  'açõesmercado',\n",
              "  'açõesmercado',\n",
              "  'açõesmercado',\n",
              "  'açõestaxa',\n",
              "  'juroso',\n",
              "  'dólaro',\n",
              "  'dinheiroo',\n",
              "  'mercado',\n",
              "  'açõeso',\n",
              "  'mercado',\n",
              "  'açõeso',\n",
              "  'mercado',\n",
              "  'açõesqual',\n",
              "  'investimento',\n",
              "  'favorito',\n",
              "  'economiao',\n",
              "  'economiao',\n",
              "  'economiaeu',\n",
              "  'faço',\n",
              "  'estoquedinheiroquanto',\n",
              "  'ganhaquanto',\n",
              "  'ganhaquanto',\n",
              "  'ganhaquanto',\n",
              "  'cobraquanto',\n",
              "  'dinheiro',\n",
              "  'temquanto',\n",
              "  'dinheiroquanto',\n",
              "  'dinheiro',\n",
              "  'dólar',\n",
              "  'realquem',\n",
              "  'dono',\n",
              "  'público'],\n",
              " ['casa',\n",
              "  'médico',\n",
              "  'todos',\n",
              "  'doentesele',\n",
              "  'insistiu',\n",
              "  'tanto',\n",
              "  'conseguiu',\n",
              "  'casar',\n",
              "  'seprecisei',\n",
              "  'pregar',\n",
              "  'prego',\n",
              "  'martelo',\n",
              "  'então',\n",
              "  'preguei',\n",
              "  'pequena',\n",
              "  'barra',\n",
              "  'ferroganhei',\n",
              "  'livro',\n",
              "  'quinze',\n",
              "  'queria',\n",
              "  'sagaranasozinha',\n",
              "  'conseguirei',\n",
              "  'concluir',\n",
              "  'trabalhoestava',\n",
              "  'tudo',\n",
              "  'combinado',\n",
              "  'festa',\n",
              "  'pai',\n",
              "  'chegouvocê',\n",
              "  'paciente',\n",
              "  'conversar',\n",
              "  'elacedo',\n",
              "  'tarde',\n",
              "  'verdade',\n",
              "  'vai',\n",
              "  'aparecermachocou',\n",
              "  'agora',\n",
              "  'est',\n",
              "  '·',\n",
              "  'sendo',\n",
              "  'machucadomelhor',\n",
              "  'ter',\n",
              "  'pouco',\n",
              "  'ambicionar',\n",
              "  'perder',\n",
              "  'tudofaça',\n",
              "  'trabalho',\n",
              "  'devagar',\n",
              "  'bem',\n",
              "  'feitome',\n",
              "  'desacatou',\n",
              "  'permaneci',\n",
              "  'caladadepois',\n",
              "  'atropelado',\n",
              "  'atravessa',\n",
              "  'faixa',\n",
              "  'pedestre',\n",
              "  'farol',\n",
              "  'fechado',\n",
              "  'carrosele',\n",
              "  'fica',\n",
              "  'lembrando',\n",
              "  'época',\n",
              "  'pilotoquer',\n",
              "  'bem',\n",
              "  'feito',\n",
              "  'faça',\n",
              "  'continuar',\n",
              "  'pisando',\n",
              "  'bola',\n",
              "  'vou',\n",
              "  'ter',\n",
              "  'tomar',\n",
              "  'providência',\n",
              "  'saber',\n",
              "  'direito',\n",
              "  'chegar',\n",
              "  'evento',\n",
              "  'vou',\n",
              "  'perguntando',\n",
              "  'acharvou',\n",
              "  'agência',\n",
              "  'empregos',\n",
              "  'amanhã',\n",
              "  'manhãcuide',\n",
              "  'vida',\n",
              "  'cuido',\n",
              "  'minhasou',\n",
              "  'precavida',\n",
              "  'dispensa',\n",
              "  'nadatornou',\n",
              "  'advogado',\n",
              "  'paiela',\n",
              "  'merece',\n",
              "  'perdão',\n",
              "  'errocom',\n",
              "  'moedas',\n",
              "  'juntou',\n",
              "  'cofrinho',\n",
              "  'conseguiu',\n",
              "  'comprar',\n",
              "  'carro',\n",
              "  'zerocomprou',\n",
              "  'impressora',\n",
              "  'barata',\n",
              "  'deu',\n",
              "  'defeito',\n",
              "  'dois',\n",
              "  'meseso',\n",
              "  'assunto',\n",
              "  'veio',\n",
              "  '‡',\n",
              "  'tona',\n",
              "  'acasoela',\n",
              "  'pensa',\n",
              "  'antes',\n",
              "  'falar',\n",
              "  'denuncia',\n",
              "  'si',\n",
              "  'mesma',\n",
              "  '…',\n",
              "  'preciso',\n",
              "  'ter',\n",
              "  'paciência',\n",
              "  'vencerela',\n",
              "  'afirmou',\n",
              "  'nunca',\n",
              "  'precisaria',\n",
              "  'voltar',\n",
              "  '·',\n",
              "  'namorada',\n",
              "  'evitando',\n",
              "  'embora',\n",
              "  'confirme',\n",
              "  'sei',\n",
              "  'quer',\n",
              "  'tempofinalmente',\n",
              "  'consegui',\n",
              "  'comprar',\n",
              "  'ingresso',\n",
              "  'esqueci',\n",
              "  'levar',\n",
              "  'protetor',\n",
              "  'solar',\n",
              "  'amigo',\n",
              "  'trouxe',\n",
              "  'emprestou',\n",
              "  'celular',\n",
              "  'bonito',\n",
              "  'propaganda',\n",
              "  'vivo',\n",
              "  'ruim'],\n",
              " ['linguística',\n",
              "  'verbo',\n",
              "  'estudaquem',\n",
              "  'saussure',\n",
              "  'gramáticao',\n",
              "  'substantivo',\n",
              "  'noam',\n",
              "  'chomsky',\n",
              "  'sujeito',\n",
              "  'marcos',\n",
              "  'bagno',\n",
              "  'quais',\n",
              "  'livros',\n",
              "  'todo',\n",
              "  'estudante',\n",
              "  'letras',\n",
              "  'deve',\n",
              "  'ter',\n",
              "  'quais',\n",
              "  'áreas',\n",
              "  'linguística',\n",
              "  'uso',\n",
              "  'porque',\n",
              "  'porquê',\n",
              "  'porquê',\n",
              "  'pode',\n",
              "  'explicar',\n",
              "  'uso',\n",
              "  'porquês',\n",
              "  'forma',\n",
              "  'correta',\n",
              "  'concerteza',\n",
              "  'certeza',\n",
              "  'figuras',\n",
              "  'linguagem',\n",
              "  'pronome',\n",
              "  'anpoll',\n",
              "  'realizado',\n",
              "  'próximo',\n",
              "  'sic',\n",
              "  'quais',\n",
              "  'pronomes',\n",
              "  'pessoais',\n",
              "  'caso',\n",
              "  'reto',\n",
              "  'autor',\n",
              "  'análise',\n",
              "  'textos',\n",
              "  'comunicação',\n",
              "  'advérbio',\n",
              "  'langue',\n",
              "  'paroleo',\n",
              "  'letramento',\n",
              "  'alfabetização']]"
            ]
          },
          "metadata": {},
          "execution_count": 101
        }
      ]
    },
    {
      "cell_type": "markdown",
      "metadata": {
        "id": "L6lfbAM2IxMx"
      },
      "source": [
        "<b> Atividade </b>\n",
        "\n",
        "5) Crie um dicionário com nosso corpus, de forma que cada termo único (valor) possua um índice (chave). \n",
        "\n",
        "Dica: \n",
        "- utilize o ```gensim.corpora.Dictionary ``` para criar este dicionário. \n",
        "- utilize o texto pré-processado"
      ]
    },
    {
      "cell_type": "code",
      "metadata": {
        "id": "_dtZTj-oIxMy"
      },
      "source": [
        "# Usando o gensim.corpora.Dictionary para criar este dicionário]\n",
        "# uma vez que o LDA visualiza as palavras como bag of words\n",
        "dicionario = gensim.corpora.Dictionary(chats_limpos)"
      ],
      "execution_count": null,
      "outputs": []
    },
    {
      "cell_type": "code",
      "source": [
        "# Verificando o tamanho do dicionario criado\n",
        "# Resumindo, criamos 245 tokens\n",
        "len(dicionario)"
      ],
      "metadata": {
        "colab": {
          "base_uri": "https://localhost:8080/"
        },
        "id": "xqkuhs0Ppnr_",
        "outputId": "d93337db-9b32-4977-bec2-c587e37bce4d"
      },
      "execution_count": null,
      "outputs": [
        {
          "output_type": "execute_result",
          "data": {
            "text/plain": [
              "247"
            ]
          },
          "metadata": {},
          "execution_count": 107
        }
      ]
    },
    {
      "cell_type": "code",
      "source": [
        "# Verificando a palavra na posição 4 por exemplo\n",
        "# Dentro dicionário o ID 4 é respectivo a palavra 'cenário'\n",
        "dicionario[4]"
      ],
      "metadata": {
        "colab": {
          "base_uri": "https://localhost:8080/",
          "height": 36
        },
        "id": "UZwRB__cp1eY",
        "outputId": "534e1bf9-d729-413e-9859-8857d2fba19d"
      },
      "execution_count": null,
      "outputs": [
        {
          "output_type": "execute_result",
          "data": {
            "text/plain": [
              "'cenário'"
            ],
            "application/vnd.google.colaboratory.intrinsic+json": {
              "type": "string"
            }
          },
          "metadata": {},
          "execution_count": 118
        }
      ]
    },
    {
      "cell_type": "markdown",
      "metadata": {
        "id": "vEA7Qh9gIxM2"
      },
      "source": [
        "<b> Atividade </b>\n",
        "\n",
        "6) Converta os documentos em índices, utilizando o método ```doc2bow``` em cada documento."
      ]
    },
    {
      "cell_type": "code",
      "metadata": {
        "id": "qqOLzcwLIxM3"
      },
      "source": [
        "# Abaixo foi feito a conversão dos indices utilizando o método doc2bow\n",
        "chat_doc2bow = [dicionario.doc2bow(chat) for chat in chats_limpos]"
      ],
      "execution_count": null,
      "outputs": []
    },
    {
      "cell_type": "code",
      "source": [
        "# Imprimindo o resultado\n",
        "chat_doc2bow"
      ],
      "metadata": {
        "colab": {
          "base_uri": "https://localhost:8080/"
        },
        "id": "LGslyNRqr7mv",
        "outputId": "67f6d22e-caa3-478a-c754-f620333a1bee"
      },
      "execution_count": null,
      "outputs": [
        {
          "output_type": "execute_result",
          "data": {
            "text/plain": [
              "[[(0, 6),\n",
              "  (1, 1),\n",
              "  (2, 1),\n",
              "  (3, 1),\n",
              "  (4, 1),\n",
              "  (5, 3),\n",
              "  (6, 1),\n",
              "  (7, 3),\n",
              "  (8, 2),\n",
              "  (9, 1),\n",
              "  (10, 1),\n",
              "  (11, 1),\n",
              "  (12, 1),\n",
              "  (13, 1),\n",
              "  (14, 1),\n",
              "  (15, 1),\n",
              "  (16, 1),\n",
              "  (17, 1),\n",
              "  (18, 1),\n",
              "  (19, 2),\n",
              "  (20, 1),\n",
              "  (21, 1),\n",
              "  (22, 1),\n",
              "  (23, 1),\n",
              "  (24, 3),\n",
              "  (25, 1),\n",
              "  (26, 1),\n",
              "  (27, 2),\n",
              "  (28, 1),\n",
              "  (29, 1),\n",
              "  (30, 1)],\n",
              " [(31, 7),\n",
              "  (32, 2),\n",
              "  (33, 1),\n",
              "  (34, 1),\n",
              "  (35, 1),\n",
              "  (36, 2),\n",
              "  (37, 1),\n",
              "  (38, 1),\n",
              "  (39, 1),\n",
              "  (40, 1),\n",
              "  (41, 1),\n",
              "  (42, 1),\n",
              "  (43, 2),\n",
              "  (44, 1),\n",
              "  (45, 1),\n",
              "  (46, 1),\n",
              "  (47, 3),\n",
              "  (48, 1),\n",
              "  (49, 1),\n",
              "  (50, 3),\n",
              "  (51, 1),\n",
              "  (52, 1),\n",
              "  (53, 1),\n",
              "  (54, 1)],\n",
              " [(6, 2),\n",
              "  (55, 1),\n",
              "  (56, 1),\n",
              "  (57, 1),\n",
              "  (58, 1),\n",
              "  (59, 1),\n",
              "  (60, 1),\n",
              "  (61, 1),\n",
              "  (62, 1),\n",
              "  (63, 1),\n",
              "  (64, 1),\n",
              "  (65, 1),\n",
              "  (66, 1),\n",
              "  (67, 1),\n",
              "  (68, 1),\n",
              "  (69, 1),\n",
              "  (70, 1),\n",
              "  (71, 2),\n",
              "  (72, 1),\n",
              "  (73, 1),\n",
              "  (74, 1),\n",
              "  (75, 1),\n",
              "  (76, 1),\n",
              "  (77, 1),\n",
              "  (78, 1),\n",
              "  (79, 1),\n",
              "  (80, 1),\n",
              "  (81, 1),\n",
              "  (82, 1),\n",
              "  (83, 1),\n",
              "  (84, 1),\n",
              "  (85, 1),\n",
              "  (86, 1),\n",
              "  (87, 1),\n",
              "  (88, 2),\n",
              "  (89, 1),\n",
              "  (90, 1),\n",
              "  (91, 1),\n",
              "  (92, 1),\n",
              "  (93, 1),\n",
              "  (94, 1),\n",
              "  (95, 1),\n",
              "  (96, 1),\n",
              "  (97, 1),\n",
              "  (98, 1),\n",
              "  (99, 1),\n",
              "  (100, 1),\n",
              "  (101, 1),\n",
              "  (102, 1),\n",
              "  (103, 1),\n",
              "  (104, 1),\n",
              "  (105, 1),\n",
              "  (106, 1),\n",
              "  (107, 1),\n",
              "  (108, 1),\n",
              "  (109, 1),\n",
              "  (110, 1),\n",
              "  (111, 1),\n",
              "  (112, 1),\n",
              "  (113, 1),\n",
              "  (114, 1),\n",
              "  (115, 1),\n",
              "  (116, 1),\n",
              "  (117, 1),\n",
              "  (118, 1),\n",
              "  (119, 1),\n",
              "  (120, 1),\n",
              "  (121, 1),\n",
              "  (122, 1),\n",
              "  (123, 1),\n",
              "  (124, 1),\n",
              "  (125, 1),\n",
              "  (126, 1),\n",
              "  (127, 1),\n",
              "  (128, 1),\n",
              "  (129, 1),\n",
              "  (130, 1),\n",
              "  (131, 1),\n",
              "  (132, 1),\n",
              "  (133, 1),\n",
              "  (134, 1),\n",
              "  (135, 1),\n",
              "  (136, 1),\n",
              "  (137, 1),\n",
              "  (138, 1),\n",
              "  (139, 1),\n",
              "  (140, 1),\n",
              "  (141, 1),\n",
              "  (142, 1),\n",
              "  (143, 1),\n",
              "  (144, 1),\n",
              "  (145, 1),\n",
              "  (146, 1),\n",
              "  (147, 1),\n",
              "  (148, 1),\n",
              "  (149, 1),\n",
              "  (150, 1),\n",
              "  (151, 1),\n",
              "  (152, 1),\n",
              "  (153, 1),\n",
              "  (154, 1),\n",
              "  (155, 1),\n",
              "  (156, 1),\n",
              "  (157, 1),\n",
              "  (158, 1),\n",
              "  (159, 1),\n",
              "  (160, 1),\n",
              "  (161, 1),\n",
              "  (162, 1),\n",
              "  (163, 1),\n",
              "  (164, 1),\n",
              "  (165, 1),\n",
              "  (166, 1),\n",
              "  (167, 1),\n",
              "  (168, 1),\n",
              "  (169, 1),\n",
              "  (170, 1),\n",
              "  (171, 1),\n",
              "  (172, 1),\n",
              "  (173, 1),\n",
              "  (174, 1),\n",
              "  (175, 1),\n",
              "  (176, 1),\n",
              "  (177, 3),\n",
              "  (178, 1),\n",
              "  (179, 1),\n",
              "  (180, 1),\n",
              "  (181, 1),\n",
              "  (182, 1),\n",
              "  (183, 1),\n",
              "  (184, 1),\n",
              "  (185, 1),\n",
              "  (186, 1),\n",
              "  (187, 1),\n",
              "  (188, 1),\n",
              "  (189, 1),\n",
              "  (190, 1),\n",
              "  (191, 1),\n",
              "  (192, 1),\n",
              "  (193, 2),\n",
              "  (194, 1),\n",
              "  (195, 2),\n",
              "  (196, 1),\n",
              "  (197, 1),\n",
              "  (198, 1)],\n",
              " [(177, 1),\n",
              "  (199, 1),\n",
              "  (200, 1),\n",
              "  (201, 1),\n",
              "  (202, 1),\n",
              "  (203, 1),\n",
              "  (204, 1),\n",
              "  (205, 1),\n",
              "  (206, 1),\n",
              "  (207, 1),\n",
              "  (208, 1),\n",
              "  (209, 1),\n",
              "  (210, 1),\n",
              "  (211, 1),\n",
              "  (212, 1),\n",
              "  (213, 1),\n",
              "  (214, 1),\n",
              "  (215, 1),\n",
              "  (216, 1),\n",
              "  (217, 1),\n",
              "  (218, 1),\n",
              "  (219, 1),\n",
              "  (220, 1),\n",
              "  (221, 1),\n",
              "  (222, 2),\n",
              "  (223, 1),\n",
              "  (224, 1),\n",
              "  (225, 1),\n",
              "  (226, 1),\n",
              "  (227, 1),\n",
              "  (228, 1),\n",
              "  (229, 1),\n",
              "  (230, 2),\n",
              "  (231, 1),\n",
              "  (232, 1),\n",
              "  (233, 1),\n",
              "  (234, 1),\n",
              "  (235, 3),\n",
              "  (236, 1),\n",
              "  (237, 1),\n",
              "  (238, 1),\n",
              "  (239, 1),\n",
              "  (240, 1),\n",
              "  (241, 1),\n",
              "  (242, 1),\n",
              "  (243, 1),\n",
              "  (244, 2),\n",
              "  (245, 1),\n",
              "  (246, 1)]]"
            ]
          },
          "metadata": {},
          "execution_count": 124
        }
      ]
    },
    {
      "cell_type": "markdown",
      "metadata": {
        "id": "EhhrYOWxIxM8"
      },
      "source": [
        "<b> Atividade </b>\n",
        "\n",
        "7) Aplique o modelo LDA do Gensim nos dados processados acima. O modelo recebe a matriz de índices gerada anteriormente.\n",
        "Abaixo, apresentamos um exemplo de como aplicar o modelo.\n",
        "\n",
        "\n",
        "```python\n",
        "model = gensim.models.ldamodel.LdaModel(doc_term_matrix, num_topics=4, id2word = dictionary, passes=1000, random_state=123)\n",
        "#para mostrar os tópicos:\n",
        "model.show_topics()\n",
        "```\n",
        "\n",
        "Fique a vontade para alterar os parâmetros e fazer testes."
      ]
    },
    {
      "cell_type": "code",
      "metadata": {
        "id": "mzVfsXvxIxM9"
      },
      "source": [
        "# Aplicando o modelo LDA do Gensim nos dados processados\n",
        "# No num_topics é possível alterar esse valor para trazer a quantidade \n",
        "# de topicos que necessito para minha aplicação\n",
        "model = gensim.models.ldamodel.LdaModel(chat_doc2bow, num_topics=4, id2word = dicionario, passes=1000, random_state=123)\n"
      ],
      "execution_count": null,
      "outputs": []
    },
    {
      "cell_type": "code",
      "source": [
        "# Gerei 4 tópicos para visualização\n",
        "model.show_topics()"
      ],
      "metadata": {
        "colab": {
          "base_uri": "https://localhost:8080/"
        },
        "id": "X5w_4sretREc",
        "outputId": "81c2525f-0515-4f00-e253-487903ae5ff5"
      },
      "execution_count": null,
      "outputs": [
        {
          "output_type": "execute_result",
          "data": {
            "text/plain": [
              "[(0,\n",
              "  '0.047*\"açõesmercado\" + 0.021*\"quais\" + 0.021*\"mercado\" + 0.021*\"ganhaquanto\" + 0.015*\"uso\" + 0.015*\"porquê\" + 0.015*\"linguística\" + 0.015*\"dinheiro\" + 0.015*\"economiao\" + 0.015*\"açõeso\"'),\n",
              " (1,\n",
              "  '0.059*\"acha\" + 0.030*\"chamado\" + 0.030*\"programa\" + 0.030*\"conhece\" + 0.021*\"console\" + 0.021*\"mario\" + 0.021*\"sonic\" + 0.012*\"team\" + 0.012*\"pc\" + 0.012*\"of\"'),\n",
              " (2,\n",
              "  '0.004*\"economiaeu\" + 0.004*\"favorito\" + 0.004*\"cobraquanto\" + 0.004*\"dinheiroo\" + 0.004*\"dinheiroquanto\" + 0.004*\"dono\" + 0.004*\"dólar\" + 0.004*\"dólaro\" + 0.004*\"açõesqual\" + 0.004*\"estoquedinheiroquanto\"'),\n",
              " (3,\n",
              "  '0.015*\"ter\" + 0.011*\"comprar\" + 0.011*\"·\" + 0.011*\"vou\" + 0.011*\"bem\" + 0.011*\"conseguiu\" + 0.006*\"ferroganhei\" + 0.006*\"faça\" + 0.006*\"feito\" + 0.006*\"feitome\"')]"
            ]
          },
          "metadata": {},
          "execution_count": 254
        }
      ]
    },
    {
      "cell_type": "markdown",
      "metadata": {
        "id": "bq7LLzSiIxNB"
      },
      "source": [
        "<b> Atividade </b>\n",
        "\n",
        "8) Para responder esta questão utilize os parâmetros sugeridos na questão 7. Analise os grupos gerados anteriormente e responda:\n",
        "- a) Os grupos são bem dividos? Caracterize-os.<br>\n",
        "<b>R. Considerando o 4 tópicos sim. O primeiro caracteriza por abordar mercado financeiro, o segundo games, o terceiro economia e o quarto faz menções de compras.</b>\n",
        "- b) Dê um nome para cada grupo de tópicos.<br>\n",
        "<b>R.:Financeiro, Games, Economia e Compras</b>"
      ]
    },
    {
      "cell_type": "code",
      "metadata": {
        "id": "tTWhIiJ0IxNC"
      },
      "source": [],
      "execution_count": null,
      "outputs": []
    },
    {
      "cell_type": "code",
      "metadata": {
        "id": "zMlGC2-5IxNF"
      },
      "source": [],
      "execution_count": null,
      "outputs": []
    },
    {
      "cell_type": "markdown",
      "metadata": {
        "id": "qGEqR-dCIxNJ"
      },
      "source": [
        "# Sumarização\n",
        "\n",
        "Aqui iremos realizar uma sumarização de notíticas com técnicas que vimos nas aulas anteriores."
      ]
    },
    {
      "cell_type": "markdown",
      "metadata": {
        "id": "Uzi9WNp5IxNK"
      },
      "source": [
        "<b> Atividade </b>\n",
        "\n",
        "9) Faça download do texto da seguinte notícia: \n",
        "\n",
        "``https://g1.globo.com/tecnologia/noticia/2022/03/12/instagram-restrito-na-russia-entenda-a-importancia-da-rede-social-para-o-pais-de-putin.ghtml``\n",
        "\n",
        "Dica: para fazer download, consulte a Aula Prática 4."
      ]
    },
    {
      "cell_type": "code",
      "metadata": {
        "id": "HEK_Re-6IxNL"
      },
      "source": [
        "# Fiz o download da notícia abaixo\n",
        "url = 'https://g1.globo.com/tecnologia/noticia/2022/03/12/instagram-restrito-na-russia-entenda-a-importancia-da-rede-social-para-o-pais-de-putin.ghtml'"
      ],
      "execution_count": null,
      "outputs": []
    },
    {
      "cell_type": "code",
      "source": [
        "# Faz a captura do texto do link contido na variável url\n",
        "def match_class(target):                                                        \n",
        "    def do_match(tag):                                                          \n",
        "        classes = tag.get('class', [])                                          \n",
        "        return all(c in classes for c in target)                                \n",
        "    return do_match \n",
        "\n",
        "def get_text_url(url):\n",
        "    res = requests.get(url)\n",
        "    html = res.text\n",
        "    soup = BeautifulSoup(html, 'html5lib')\n",
        "    #remove marcações de scripts e style\n",
        "    texto = soup.find_all(match_class([\"content-text__container\"]))\n",
        "    all_text = \"\"\n",
        "    for t in texto:\n",
        "        all_text += t.get_text()\n",
        "    return all_text"
      ],
      "metadata": {
        "id": "JHagsk_3-bkd"
      },
      "execution_count": null,
      "outputs": []
    },
    {
      "cell_type": "code",
      "source": [
        "noticia = get_text_url(url)"
      ],
      "metadata": {
        "id": "TJ0cQoOF-e1E"
      },
      "execution_count": null,
      "outputs": []
    },
    {
      "cell_type": "markdown",
      "metadata": {
        "id": "osxILn5uIxNP"
      },
      "source": [
        "<b> Atividade </b>\n",
        "\n",
        "10) Imprima o texto coletado."
      ]
    },
    {
      "cell_type": "code",
      "metadata": {
        "id": "jIZzS17MIxNQ",
        "colab": {
          "base_uri": "https://localhost:8080/",
          "height": 123
        },
        "outputId": "6f97f775-5f7c-4ad9-dba8-1dcddeb3862e"
      },
      "source": [
        "# Fazendo a impressão do texto coletado\n",
        "noticia"
      ],
      "execution_count": null,
      "outputs": [
        {
          "output_type": "execute_result",
          "data": {
            "text/plain": [
              "' A decisão de bloquear o Instagram na Rússia deve ter impactos que vão além da disputa entre o governo russo e a companhia americana, já que o aplicativo é bastante popular no país. A rede social tem 80 milhões de usuários russos, segundo o diretor Adam Mosseri.  A Rússia anunciou que vai restringir o acesso ao Instagram na próxima segunda-feira (14) como resposta à mudança de política para discurso de ódio da Meta, controladora do Instagram e também das plataformas Facebook e WhatsApp.  Na última sexta-feira (11), a empresa americana mudou temporariamente suas regras para permitir que usuários das redes sociais em alguns países defendam atos de violência contra russos no contexto da guerra na Ucrânia (saiba mais ao fim da reportagem).  De acordo com o comunicado do governo russo, a decisão de bloquear o app na segunda dá aos usuários 48 horas para transferirem suas fotos e vídeos para outras redes sociais e notificarem seus contatos e clientes.  Os russos usam muito mais o Instagram do que o Facebook, a rede social com mais usuários no mundo, segundo dados da consultoria eMarketer publicados pela agência France Presse.  O Facebook tinha 7,5 milhões naquele país em 2021, o equivalente a 7,3% dos internautas, contra 51 milhões no Instagram.  O Instagram não divulga dados de usuários por país, mas, na sexta, Mosseri postou que são 80 milhões na Rússia. \"Essa decisão cortará 80 milhões na Rússia uns dos outros e do resto do mundo, já que cerca de 80% das pessoas na Rússia seguem uma conta do Instagram fora de seu país. Isto está errado\", afirmou.  Assim como no Brasil, o aplicativo é extremamente popular entre os russos, tendo se tornado também uma ferramenta de vendas online crucial para muitas pequenas e médias empresas, assim como para artistas e artesãos, que dependem de sua visibilidade nesta plataforma para sobreviver.  A Meta também deverá perder com o bloqueio. Considerando o tamanho da audiência que pode visualizar a publicidade no app, a Rússia é quinto maior mercado para o Instagram – atrás apenas de Estados Unidos, Índia, Brasil e Indonésia, respectivamente. Os dados são de um relatório da agência We Are Social, em parceria com a plataforma Hootsuite.  A restrição ao Instagram se seguirá à do Facebook, que, assim como o Twitter, tem seu acesso restrito no país desde o último dia 4. Por enquanto, ainda não há informações sobre restrições ao WhatsApp na Rússia.  O anúncio do bloqueio do Instagram foi feito pelo Roskomnadzor, órgão que controla mídia e telecomunicações na Rússia. A decisão é uma resposta à mudança de política sobre discurso de ódio da Meta, controladora do Facebook, do WhatsApp e do Instagram.  A companhia americana está temporariamente liberando algumas mensagens que defendem a morte do presidente da Rússia, Vladimir Putin, ou do presidente de Belarus, Alexander Lukashenko, em países que incluem Rússia, Ucrânia e Polônia, segundo uma série de e-mails internos enviados aos moderadores de conteúdo da empresa e vistos pela agência Reuters.  O governo Putin reclamou que \"estão circulando mensagens na rede social Instagram incentivando e provocando atos violentos contra os russos\" e que, por isso, restringiria a rede social.  A Procuradoria-Geral russa pediu ainda que a gigante da internet seja classificada como uma organização \"extremista\".  Em comunicado divulgado na sexta, o vice-presidente de assuntos globais da Meta, Nick Clegg, justificou as mudança nas regras da empresa. “O fato é que, se aplicássemos nossa política padrão de conteúdo sem qualquer ajuste, nós estaríamos removendo conteúdo de cidadãos ucranianos comuns expressando sua resistência e fúria contra as forças invasoras”, apontou Clegg.  O vice-presidente da Meta ressaltou que a companhia não tem nada contra o povo russo e que a plataforma “não vai tolerar russofobia ou qualquer tipo de discriminação, abuso ou violência direcionada aos russos”. '"
            ],
            "application/vnd.google.colaboratory.intrinsic+json": {
              "type": "string"
            }
          },
          "metadata": {},
          "execution_count": 274
        }
      ]
    },
    {
      "cell_type": "markdown",
      "metadata": {
        "id": "EnQTLtE4IxNU"
      },
      "source": [
        "<b> Atividade </b>\n",
        "\n",
        "11) Faça a tokenização das sentenças."
      ]
    },
    {
      "cell_type": "code",
      "metadata": {
        "id": "TLa2At5ZIxNU",
        "colab": {
          "base_uri": "https://localhost:8080/"
        },
        "outputId": "4e3b12c2-eec2-4941-8836-35797e8a8548"
      },
      "source": [
        "# Gerando os token, mas para isso é necessário baixar o nltk.download('punkt')\n",
        "nltk.download('punkt')\n",
        "noticia_sents = nltk.sent_tokenize(noticia)"
      ],
      "execution_count": null,
      "outputs": [
        {
          "output_type": "stream",
          "name": "stderr",
          "text": [
            "[nltk_data] Downloading package punkt to /root/nltk_data...\n",
            "[nltk_data]   Package punkt is already up-to-date!\n"
          ]
        }
      ]
    },
    {
      "cell_type": "code",
      "source": [
        "# Fazendo o len, temos como resultado 24 frases\n",
        "len(noticia_sents)"
      ],
      "metadata": {
        "colab": {
          "base_uri": "https://localhost:8080/"
        },
        "id": "6pyVm1cyDHDl",
        "outputId": "8e9c1aa9-bc37-468c-d6bd-09c791adf21c"
      },
      "execution_count": null,
      "outputs": [
        {
          "output_type": "execute_result",
          "data": {
            "text/plain": [
              "24"
            ]
          },
          "metadata": {},
          "execution_count": 276
        }
      ]
    },
    {
      "cell_type": "markdown",
      "metadata": {
        "id": "2O3yN7eEIxNa"
      },
      "source": [
        "<b> Atividade </b>\n",
        "\n",
        "12) Aplique o pré-processamento nos dados:\n",
        "\n",
        "- tokenização\n",
        "- lower\n",
        "- remoção stopwords\n",
        "- remoção pontuação"
      ]
    },
    {
      "cell_type": "code",
      "metadata": {
        "id": "kSLNMw4xIxNc"
      },
      "source": [
        "# Para cada uma frase das 24 será necessário aplicar pré processamento dos dados\n",
        "def pre_processamento_texto(corpus):\n",
        "  corpus_alt = re.findall(r'\\w+(?:\\w+)?|[^\\w\\s]', corpus)\n",
        "  corpus_alt = [t.lower() for t in corpus_alt]\n",
        "  portugues_stops = stopwords.words('portuguese')\n",
        "  corpus_alt = [t for t in corpus_alt if t not in portugues_stops]\n",
        "  corpus_alt = [re.sub(r'\\d','',t) for t in corpus_alt]\n",
        "  corpus_alt =[t for t in corpus_alt if t not in string.punctuation]\n",
        "  corpus_alt = [unicode(t) for t in corpus_alt]\n",
        "  return corpus_alt"
      ],
      "execution_count": null,
      "outputs": []
    },
    {
      "cell_type": "code",
      "source": [
        "# Fiz um for para a aplicação do pre processamento e \n",
        "# coloquei dentro da variavel noticia_limpa\n",
        "noticia_limpa = [pre_processamento_texto(sent) for sent in noticia_sents]"
      ],
      "metadata": {
        "id": "MLCYqM3pEReC"
      },
      "execution_count": null,
      "outputs": []
    },
    {
      "cell_type": "code",
      "source": [
        "# Imprimindo os tokens gerados\n",
        "noticia_limpa"
      ],
      "metadata": {
        "colab": {
          "base_uri": "https://localhost:8080/"
        },
        "id": "-I-mSn3hE0oS",
        "outputId": "fb55cfe5-99c0-46b1-d710-84540e1b74d0"
      },
      "execution_count": null,
      "outputs": [
        {
          "output_type": "execute_result",
          "data": {
            "text/plain": [
              "[['decisão',\n",
              "  'bloquear',\n",
              "  'instagram',\n",
              "  'rússia',\n",
              "  'deve',\n",
              "  'ter',\n",
              "  'impactos',\n",
              "  'vão',\n",
              "  'além',\n",
              "  'disputa',\n",
              "  'governo',\n",
              "  'russo',\n",
              "  'companhia',\n",
              "  'americana',\n",
              "  'aplicativo',\n",
              "  'bastante',\n",
              "  'popular',\n",
              "  'país'],\n",
              " ['rede',\n",
              "  'social',\n",
              "  'milhões',\n",
              "  'usuários',\n",
              "  'russos',\n",
              "  'segundo',\n",
              "  'diretor',\n",
              "  'adam',\n",
              "  'mosseri'],\n",
              " ['rússia',\n",
              "  'anunciou',\n",
              "  'vai',\n",
              "  'restringir',\n",
              "  'acesso',\n",
              "  'instagram',\n",
              "  'próxima',\n",
              "  'segunda',\n",
              "  'feira',\n",
              "  'resposta',\n",
              "  'mudança',\n",
              "  'política',\n",
              "  'discurso',\n",
              "  'ódio',\n",
              "  'meta',\n",
              "  'controladora',\n",
              "  'instagram',\n",
              "  'plataformas',\n",
              "  'facebook',\n",
              "  'whatsapp'],\n",
              " ['última',\n",
              "  'sexta',\n",
              "  'feira',\n",
              "  'empresa',\n",
              "  'americana',\n",
              "  'mudou',\n",
              "  'temporariamente',\n",
              "  'regras',\n",
              "  'permitir',\n",
              "  'usuários',\n",
              "  'redes',\n",
              "  'sociais',\n",
              "  'alguns',\n",
              "  'países',\n",
              "  'defendam',\n",
              "  'atos',\n",
              "  'violência',\n",
              "  'contra',\n",
              "  'russos',\n",
              "  'contexto',\n",
              "  'guerra',\n",
              "  'ucrânia',\n",
              "  'saiba',\n",
              "  'fim',\n",
              "  'reportagem'],\n",
              " ['acordo',\n",
              "  'comunicado',\n",
              "  'governo',\n",
              "  'russo',\n",
              "  'decisão',\n",
              "  'bloquear',\n",
              "  'app',\n",
              "  'segunda',\n",
              "  'dá',\n",
              "  'usuários',\n",
              "  'horas',\n",
              "  'transferirem',\n",
              "  'fotos',\n",
              "  'vídeos',\n",
              "  'outras',\n",
              "  'redes',\n",
              "  'sociais',\n",
              "  'notificarem',\n",
              "  'contatos',\n",
              "  'clientes'],\n",
              " ['russos',\n",
              "  'usam',\n",
              "  'instagram',\n",
              "  'facebook',\n",
              "  'rede',\n",
              "  'social',\n",
              "  'usuários',\n",
              "  'mundo',\n",
              "  'segundo',\n",
              "  'dados',\n",
              "  'consultoria',\n",
              "  'emarketer',\n",
              "  'publicados',\n",
              "  'agência',\n",
              "  'france',\n",
              "  'presse'],\n",
              " ['facebook',\n",
              "  'milhões',\n",
              "  'naquele',\n",
              "  'país',\n",
              "  'equivalente',\n",
              "  'internautas',\n",
              "  'contra',\n",
              "  'milhões',\n",
              "  'instagram'],\n",
              " ['instagram',\n",
              "  'divulga',\n",
              "  'dados',\n",
              "  'usuários',\n",
              "  'país',\n",
              "  'sexta',\n",
              "  'mosseri',\n",
              "  'postou',\n",
              "  'milhões',\n",
              "  'rússia'],\n",
              " ['decisão',\n",
              "  'cortará',\n",
              "  'milhões',\n",
              "  'rússia',\n",
              "  'uns',\n",
              "  'outros',\n",
              "  'resto',\n",
              "  'mundo',\n",
              "  'cerca',\n",
              "  'pessoas',\n",
              "  'rússia',\n",
              "  'seguem',\n",
              "  'conta',\n",
              "  'instagram',\n",
              "  'país'],\n",
              " ['errado', 'afirmou'],\n",
              " ['assim',\n",
              "  'brasil',\n",
              "  'aplicativo',\n",
              "  'extremamente',\n",
              "  'popular',\n",
              "  'russos',\n",
              "  'tendo',\n",
              "  'tornado',\n",
              "  'ferramenta',\n",
              "  'vendas',\n",
              "  'online',\n",
              "  'crucial',\n",
              "  'muitas',\n",
              "  'pequenas',\n",
              "  'médias',\n",
              "  'empresas',\n",
              "  'assim',\n",
              "  'artistas',\n",
              "  'artesãos',\n",
              "  'dependem',\n",
              "  'visibilidade',\n",
              "  'nesta',\n",
              "  'plataforma',\n",
              "  'sobreviver'],\n",
              " ['meta', 'deverá', 'perder', 'bloqueio'],\n",
              " ['considerando',\n",
              "  'tamanho',\n",
              "  'audiência',\n",
              "  'pode',\n",
              "  'visualizar',\n",
              "  'publicidade',\n",
              "  'app',\n",
              "  'rússia',\n",
              "  'quinto',\n",
              "  'maior',\n",
              "  'mercado',\n",
              "  'instagram',\n",
              "  '–',\n",
              "  'atrás',\n",
              "  'apenas',\n",
              "  'estados',\n",
              "  'unidos',\n",
              "  'índia',\n",
              "  'brasil',\n",
              "  'indonésia',\n",
              "  'respectivamente'],\n",
              " ['dados',\n",
              "  'relatório',\n",
              "  'agência',\n",
              "  'we',\n",
              "  'are',\n",
              "  'social',\n",
              "  'parceria',\n",
              "  'plataforma',\n",
              "  'hootsuite'],\n",
              " ['restrição',\n",
              "  'instagram',\n",
              "  'seguirá',\n",
              "  'facebook',\n",
              "  'assim',\n",
              "  'twitter',\n",
              "  'acesso',\n",
              "  'restrito',\n",
              "  'país',\n",
              "  'desde',\n",
              "  'último',\n",
              "  'dia'],\n",
              " ['enquanto',\n",
              "  'ainda',\n",
              "  'informações',\n",
              "  'sobre',\n",
              "  'restrições',\n",
              "  'whatsapp',\n",
              "  'rússia'],\n",
              " ['anúncio',\n",
              "  'bloqueio',\n",
              "  'instagram',\n",
              "  'feito',\n",
              "  'roskomnadzor',\n",
              "  'órgão',\n",
              "  'controla',\n",
              "  'mídia',\n",
              "  'telecomunicações',\n",
              "  'rússia'],\n",
              " ['decisão',\n",
              "  'resposta',\n",
              "  'mudança',\n",
              "  'política',\n",
              "  'sobre',\n",
              "  'discurso',\n",
              "  'ódio',\n",
              "  'meta',\n",
              "  'controladora',\n",
              "  'facebook',\n",
              "  'whatsapp',\n",
              "  'instagram'],\n",
              " ['companhia',\n",
              "  'americana',\n",
              "  'temporariamente',\n",
              "  'liberando',\n",
              "  'algumas',\n",
              "  'mensagens',\n",
              "  'defendem',\n",
              "  'morte',\n",
              "  'presidente',\n",
              "  'rússia',\n",
              "  'vladimir',\n",
              "  'putin',\n",
              "  'presidente',\n",
              "  'belarus',\n",
              "  'alexander',\n",
              "  'lukashenko',\n",
              "  'países',\n",
              "  'incluem',\n",
              "  'rússia',\n",
              "  'ucrânia',\n",
              "  'polônia',\n",
              "  'segundo',\n",
              "  'série',\n",
              "  'mails',\n",
              "  'internos',\n",
              "  'enviados',\n",
              "  'moderadores',\n",
              "  'conteúdo',\n",
              "  'empresa',\n",
              "  'vistos',\n",
              "  'agência',\n",
              "  'reuters'],\n",
              " ['governo',\n",
              "  'putin',\n",
              "  'reclamou',\n",
              "  'circulando',\n",
              "  'mensagens',\n",
              "  'rede',\n",
              "  'social',\n",
              "  'instagram',\n",
              "  'incentivando',\n",
              "  'provocando',\n",
              "  'atos',\n",
              "  'violentos',\n",
              "  'contra',\n",
              "  'russos',\n",
              "  'restringiria',\n",
              "  'rede',\n",
              "  'social'],\n",
              " ['procuradoria',\n",
              "  'geral',\n",
              "  'russa',\n",
              "  'pediu',\n",
              "  'ainda',\n",
              "  'gigante',\n",
              "  'internet',\n",
              "  'classificada',\n",
              "  'organização',\n",
              "  'extremista'],\n",
              " ['comunicado',\n",
              "  'divulgado',\n",
              "  'sexta',\n",
              "  'vice',\n",
              "  'presidente',\n",
              "  'assuntos',\n",
              "  'globais',\n",
              "  'meta',\n",
              "  'nick',\n",
              "  'clegg',\n",
              "  'justificou',\n",
              "  'mudança',\n",
              "  'regras',\n",
              "  'empresa'],\n",
              " ['“',\n",
              "  'fato',\n",
              "  'aplicássemos',\n",
              "  'política',\n",
              "  'padrão',\n",
              "  'conteúdo',\n",
              "  'qualquer',\n",
              "  'ajuste',\n",
              "  'estaríamos',\n",
              "  'removendo',\n",
              "  'conteúdo',\n",
              "  'cidadãos',\n",
              "  'ucranianos',\n",
              "  'comuns',\n",
              "  'expressando',\n",
              "  'resistência',\n",
              "  'fúria',\n",
              "  'contra',\n",
              "  'forças',\n",
              "  'invasoras',\n",
              "  '”',\n",
              "  'apontou',\n",
              "  'clegg'],\n",
              " ['vice',\n",
              "  'presidente',\n",
              "  'meta',\n",
              "  'ressaltou',\n",
              "  'companhia',\n",
              "  'nada',\n",
              "  'contra',\n",
              "  'povo',\n",
              "  'russo',\n",
              "  'plataforma',\n",
              "  '“',\n",
              "  'vai',\n",
              "  'tolerar',\n",
              "  'russofobia',\n",
              "  'qualquer',\n",
              "  'tipo',\n",
              "  'discriminação',\n",
              "  'abuso',\n",
              "  'violência',\n",
              "  'direcionada',\n",
              "  'russos',\n",
              "  '”']]"
            ]
          },
          "metadata": {},
          "execution_count": 279
        }
      ]
    },
    {
      "cell_type": "markdown",
      "metadata": {
        "id": "N7-clsbXIxNg"
      },
      "source": [
        "<b> Atividade </b>\n",
        "\n",
        "13) Agora iremos implementar a sumarização. Para sumarizar você precisará implementar um método para cada uma das orientações abaixo:"
      ]
    },
    {
      "cell_type": "markdown",
      "metadata": {
        "id": "3w0ojD9zIxNg"
      },
      "source": [
        "13.1) Faça um método que calcule a similaridade entre duas sentenças utilizando a similaridade do conseno. \n",
        "\n",
        "Dica: faça a tranformação aplicando Bag of Words. Consulte a Aula 3."
      ]
    },
    {
      "cell_type": "code",
      "metadata": {
        "id": "q-TMDvqhIxNh"
      },
      "source": [
        "bag = CountVectorizer()"
      ],
      "execution_count": null,
      "outputs": []
    },
    {
      "cell_type": "code",
      "source": [
        "f0 = noticia_limpa[0]\n",
        "f1 = noticia_limpa[1]"
      ],
      "metadata": {
        "id": "a1xLLEq8GHXb"
      },
      "execution_count": null,
      "outputs": []
    },
    {
      "cell_type": "code",
      "source": [
        "# Para gerar os bag of words é necessário que f0 e f1\n",
        "# estejam convertidas em string\n",
        "' '.join(f0),' '.join(f1)"
      ],
      "metadata": {
        "colab": {
          "base_uri": "https://localhost:8080/"
        },
        "id": "3ilyHlfVGpgN",
        "outputId": "6d2116b1-521a-46cc-ce02-6f8448e7ff8f"
      },
      "execution_count": null,
      "outputs": [
        {
          "output_type": "execute_result",
          "data": {
            "text/plain": [
              "('decisão bloquear instagram rússia deve ter impactos vão além disputa governo russo companhia americana aplicativo bastante popular país',\n",
              " 'rede social milhões usuários russos segundo diretor adam mosseri')"
            ]
          },
          "metadata": {},
          "execution_count": 282
        }
      ]
    },
    {
      "cell_type": "code",
      "source": [
        "# Gerando os bag of words das palavras \n",
        "# Gerou uma matrix de 2 linhas e 27 colunas\n",
        "bag.fit_transform([' '.join(f0),' '.join(f1)])"
      ],
      "metadata": {
        "colab": {
          "base_uri": "https://localhost:8080/"
        },
        "id": "v4phxWuqGWqm",
        "outputId": "1d1b4e2b-e32b-4cc0-e55b-c32fb57338a9"
      },
      "execution_count": null,
      "outputs": [
        {
          "output_type": "execute_result",
          "data": {
            "text/plain": [
              "<2x27 sparse matrix of type '<class 'numpy.int64'>'\n",
              "\twith 27 stored elements in Compressed Sparse Row format>"
            ]
          },
          "metadata": {},
          "execution_count": 283
        }
      ]
    },
    {
      "cell_type": "code",
      "source": [
        "# Apliquei tudo na minha variável vetor\n",
        "vetor = bag.fit_transform([' '.join(f0),' '.join(f1)])"
      ],
      "metadata": {
        "id": "94Ii6HeBHZnk"
      },
      "execution_count": null,
      "outputs": []
    },
    {
      "cell_type": "code",
      "source": [
        "# Para visualizar o vetor da posição zero\n",
        "v0 = vetor.todense()[0]"
      ],
      "metadata": {
        "id": "OZEhcZE8HrhC"
      },
      "execution_count": null,
      "outputs": []
    },
    {
      "cell_type": "code",
      "source": [
        "# Para visualizar o vetor da posição um\n",
        "v1 = vetor.todense()[1]"
      ],
      "metadata": {
        "id": "MUKft2HKH6xQ"
      },
      "execution_count": null,
      "outputs": []
    },
    {
      "cell_type": "code",
      "source": [
        "# De posse desses 2 vetores é possível calcular a similaridade de coseno\n",
        "# O resultado array([[0.]]) pode ser interpretado que não existem\n",
        "# Similaridade entre v0 e v1\n",
        "cosine_similarity(v0,v1)"
      ],
      "metadata": {
        "colab": {
          "base_uri": "https://localhost:8080/"
        },
        "id": "mOA2nshBIF5H",
        "outputId": "a647b43d-0e87-4658-bf0a-ab6c4931245c"
      },
      "execution_count": null,
      "outputs": [
        {
          "output_type": "execute_result",
          "data": {
            "text/plain": [
              "array([[0.]])"
            ]
          },
          "metadata": {},
          "execution_count": 287
        }
      ]
    },
    {
      "cell_type": "code",
      "source": [
        "# Se compararmos a v0 com v0 podemos notar que o valor será array([[1.]])\n",
        "# Porque são idênticas possuem a mesma frase\n",
        "cosine_similarity(v0,v0)"
      ],
      "metadata": {
        "colab": {
          "base_uri": "https://localhost:8080/"
        },
        "id": "uwlhTLy7IuYO",
        "outputId": "e9e54080-1599-4575-88b4-33c4231a6467"
      },
      "execution_count": null,
      "outputs": [
        {
          "output_type": "execute_result",
          "data": {
            "text/plain": [
              "array([[1.]])"
            ]
          },
          "metadata": {},
          "execution_count": 288
        }
      ]
    },
    {
      "cell_type": "code",
      "source": [
        "# Como temos 24 frases, teríamos que calcular uma para cada\n",
        "# Aplicamos abaixo o método\n",
        "def calcula_similaridade(f0,f1):\n",
        "  bag = CountVectorizer()\n",
        "  vetor = bag.fit_transform([' '.join(f0), ' '.join(f1)])\n",
        "  return cosine_similarity(vetor[0],vetor[1])[0][0]"
      ],
      "metadata": {
        "id": "pTm7lm7RI8ub"
      },
      "execution_count": null,
      "outputs": []
    },
    {
      "cell_type": "code",
      "source": [
        "calcula_similaridade(noticia_limpa[20],noticia_limpa[20])"
      ],
      "metadata": {
        "colab": {
          "base_uri": "https://localhost:8080/"
        },
        "id": "WcPVAWIiKwq5",
        "outputId": "e968f9a3-3005-4fac-d5dd-0725248bcae7"
      },
      "execution_count": null,
      "outputs": [
        {
          "output_type": "execute_result",
          "data": {
            "text/plain": [
              "0.9999999999999999"
            ]
          },
          "metadata": {},
          "execution_count": 290
        }
      ]
    },
    {
      "cell_type": "markdown",
      "metadata": {
        "id": "ixH4xxUmIxNm"
      },
      "source": [
        "13.2) Faça um método para construir uma matriz de similaridades entre as sentenças. \n",
        "\n",
        "Exemplo, seu texto tem 10 sentenças, você deve construir uma matriz (10,10). A posição (0,1) da matriz corresponderá a similaridade do cosseno entre a sentença 0 e a sentença 1."
      ]
    },
    {
      "cell_type": "code",
      "metadata": {
        "id": "kiLNeKlkIxNm",
        "colab": {
          "base_uri": "https://localhost:8080/"
        },
        "outputId": "5788b0e0-5ac2-4901-d2b4-35c3d3716bd0"
      },
      "source": [
        "# Temos um total de 24 frases na variável noticia_limpa\n",
        "# Para montarmos nossa matrix o ideal é que ela possua 24 X 24\n",
        "len(noticia_limpa)"
      ],
      "execution_count": null,
      "outputs": [
        {
          "output_type": "execute_result",
          "data": {
            "text/plain": [
              "24"
            ]
          },
          "metadata": {},
          "execution_count": 291
        }
      ]
    },
    {
      "cell_type": "code",
      "source": [
        "# A seguir criaremos uma matriz de zeros\n",
        "np.zeros((len(noticia_limpa), len(noticia_limpa))).shape"
      ],
      "metadata": {
        "colab": {
          "base_uri": "https://localhost:8080/"
        },
        "id": "dXqcRxzALzsT",
        "outputId": "48048364-13f7-45ef-b3b4-4c365e16dbfe"
      },
      "execution_count": null,
      "outputs": [
        {
          "output_type": "execute_result",
          "data": {
            "text/plain": [
              "(24, 24)"
            ]
          },
          "metadata": {},
          "execution_count": 292
        }
      ]
    },
    {
      "cell_type": "code",
      "source": [
        "# Criando uma matriz de zeros, para em seguida criar um for para preenchimento da matriz\n",
        "matriz_similaridade = np.zeros((len(noticia_limpa), len(noticia_limpa)))\n",
        "matriz_similaridade"
      ],
      "metadata": {
        "colab": {
          "base_uri": "https://localhost:8080/"
        },
        "id": "IPV8ClKnMzb_",
        "outputId": "75c2be18-55f1-430e-ef38-a6d277e9b67c"
      },
      "execution_count": null,
      "outputs": [
        {
          "output_type": "execute_result",
          "data": {
            "text/plain": [
              "array([[0., 0., 0., 0., 0., 0., 0., 0., 0., 0., 0., 0., 0., 0., 0., 0.,\n",
              "        0., 0., 0., 0., 0., 0., 0., 0.],\n",
              "       [0., 0., 0., 0., 0., 0., 0., 0., 0., 0., 0., 0., 0., 0., 0., 0.,\n",
              "        0., 0., 0., 0., 0., 0., 0., 0.],\n",
              "       [0., 0., 0., 0., 0., 0., 0., 0., 0., 0., 0., 0., 0., 0., 0., 0.,\n",
              "        0., 0., 0., 0., 0., 0., 0., 0.],\n",
              "       [0., 0., 0., 0., 0., 0., 0., 0., 0., 0., 0., 0., 0., 0., 0., 0.,\n",
              "        0., 0., 0., 0., 0., 0., 0., 0.],\n",
              "       [0., 0., 0., 0., 0., 0., 0., 0., 0., 0., 0., 0., 0., 0., 0., 0.,\n",
              "        0., 0., 0., 0., 0., 0., 0., 0.],\n",
              "       [0., 0., 0., 0., 0., 0., 0., 0., 0., 0., 0., 0., 0., 0., 0., 0.,\n",
              "        0., 0., 0., 0., 0., 0., 0., 0.],\n",
              "       [0., 0., 0., 0., 0., 0., 0., 0., 0., 0., 0., 0., 0., 0., 0., 0.,\n",
              "        0., 0., 0., 0., 0., 0., 0., 0.],\n",
              "       [0., 0., 0., 0., 0., 0., 0., 0., 0., 0., 0., 0., 0., 0., 0., 0.,\n",
              "        0., 0., 0., 0., 0., 0., 0., 0.],\n",
              "       [0., 0., 0., 0., 0., 0., 0., 0., 0., 0., 0., 0., 0., 0., 0., 0.,\n",
              "        0., 0., 0., 0., 0., 0., 0., 0.],\n",
              "       [0., 0., 0., 0., 0., 0., 0., 0., 0., 0., 0., 0., 0., 0., 0., 0.,\n",
              "        0., 0., 0., 0., 0., 0., 0., 0.],\n",
              "       [0., 0., 0., 0., 0., 0., 0., 0., 0., 0., 0., 0., 0., 0., 0., 0.,\n",
              "        0., 0., 0., 0., 0., 0., 0., 0.],\n",
              "       [0., 0., 0., 0., 0., 0., 0., 0., 0., 0., 0., 0., 0., 0., 0., 0.,\n",
              "        0., 0., 0., 0., 0., 0., 0., 0.],\n",
              "       [0., 0., 0., 0., 0., 0., 0., 0., 0., 0., 0., 0., 0., 0., 0., 0.,\n",
              "        0., 0., 0., 0., 0., 0., 0., 0.],\n",
              "       [0., 0., 0., 0., 0., 0., 0., 0., 0., 0., 0., 0., 0., 0., 0., 0.,\n",
              "        0., 0., 0., 0., 0., 0., 0., 0.],\n",
              "       [0., 0., 0., 0., 0., 0., 0., 0., 0., 0., 0., 0., 0., 0., 0., 0.,\n",
              "        0., 0., 0., 0., 0., 0., 0., 0.],\n",
              "       [0., 0., 0., 0., 0., 0., 0., 0., 0., 0., 0., 0., 0., 0., 0., 0.,\n",
              "        0., 0., 0., 0., 0., 0., 0., 0.],\n",
              "       [0., 0., 0., 0., 0., 0., 0., 0., 0., 0., 0., 0., 0., 0., 0., 0.,\n",
              "        0., 0., 0., 0., 0., 0., 0., 0.],\n",
              "       [0., 0., 0., 0., 0., 0., 0., 0., 0., 0., 0., 0., 0., 0., 0., 0.,\n",
              "        0., 0., 0., 0., 0., 0., 0., 0.],\n",
              "       [0., 0., 0., 0., 0., 0., 0., 0., 0., 0., 0., 0., 0., 0., 0., 0.,\n",
              "        0., 0., 0., 0., 0., 0., 0., 0.],\n",
              "       [0., 0., 0., 0., 0., 0., 0., 0., 0., 0., 0., 0., 0., 0., 0., 0.,\n",
              "        0., 0., 0., 0., 0., 0., 0., 0.],\n",
              "       [0., 0., 0., 0., 0., 0., 0., 0., 0., 0., 0., 0., 0., 0., 0., 0.,\n",
              "        0., 0., 0., 0., 0., 0., 0., 0.],\n",
              "       [0., 0., 0., 0., 0., 0., 0., 0., 0., 0., 0., 0., 0., 0., 0., 0.,\n",
              "        0., 0., 0., 0., 0., 0., 0., 0.],\n",
              "       [0., 0., 0., 0., 0., 0., 0., 0., 0., 0., 0., 0., 0., 0., 0., 0.,\n",
              "        0., 0., 0., 0., 0., 0., 0., 0.],\n",
              "       [0., 0., 0., 0., 0., 0., 0., 0., 0., 0., 0., 0., 0., 0., 0., 0.,\n",
              "        0., 0., 0., 0., 0., 0., 0., 0.]])"
            ]
          },
          "metadata": {},
          "execution_count": 293
        }
      ]
    },
    {
      "cell_type": "code",
      "source": [
        "# Para isso vamos utilizar um for\n",
        "for i in range(0, len(noticia_limpa)):\n",
        "\tfor j in range(0, len(noticia_limpa)):\n",
        "\t\tif i == j:\n",
        "\t\t\tcontinue\n",
        "\t\tmatriz_similaridade[i][j] = calcula_similaridade(noticia_limpa[i], noticia_limpa[j])"
      ],
      "metadata": {
        "id": "DrhgH5JQNJU7"
      },
      "execution_count": null,
      "outputs": []
    },
    {
      "cell_type": "code",
      "source": [
        "# A seguir transformamos nossa matriz de similaridade em um dataframe\n",
        "df_matriz_similaridade = pd.DataFrame(matriz_similaridade)"
      ],
      "metadata": {
        "id": "zxsZUBsXOR0o"
      },
      "execution_count": null,
      "outputs": []
    },
    {
      "cell_type": "markdown",
      "metadata": {
        "id": "XSxslPyRIxNr"
      },
      "source": [
        "13.3) - Depois que construímos a matriz de similaridades, faça o ranking das sentenças utilizando o método ``pagerank`` do pacote `networkx`. Este método irá retornar um score para cada sentença. Para utilizar este método, os dados devem representados em um grafo. Para isto converta a matriz de similaridades para um grafo de similaridades, utilizando o método `network.from_numpy_array(matrix)`.\n",
        "\n",
        "<i>Mais informações Pagerank: </i>https://www.agenciamestre.com/marketing-digital/o-que-e-pagerank/"
      ]
    },
    {
      "cell_type": "code",
      "metadata": {
        "id": "qzcT5ognIxNs",
        "colab": {
          "base_uri": "https://localhost:8080/"
        },
        "outputId": "c4b2b141-bb01-48d9-c12f-a14098ad37a5"
      },
      "source": [
        "# Existem 2 forma para \n",
        "# Criei a média de similaridade de cada uma das frases\n",
        "# Considerando as 5 maiores similaridades \n",
        "df_matriz_similaridade.mean().sort_values(ascending=False).head(5)"
      ],
      "execution_count": null,
      "outputs": [
        {
          "output_type": "execute_result",
          "data": {
            "text/plain": [
              "7     0.126687\n",
              "2     0.123209\n",
              "8     0.103992\n",
              "5     0.103742\n",
              "17    0.102269\n",
              "dtype: float64"
            ]
          },
          "metadata": {},
          "execution_count": 296
        }
      ]
    },
    {
      "cell_type": "code",
      "source": [
        "# Criei a mediana da similaridade de cada uma das frases\n",
        "# Considerando as 5 maiores similaridades \n",
        "df_matriz_similaridade.median().sort_values(ascending=False).head(5)"
      ],
      "metadata": {
        "colab": {
          "base_uri": "https://localhost:8080/"
        },
        "id": "nOQ9v1I1Qken",
        "outputId": "450a90d3-842e-45a0-e372-d488993f6923"
      },
      "execution_count": null,
      "outputs": [
        {
          "output_type": "execute_result",
          "data": {
            "text/plain": [
              "7     0.105409\n",
              "2     0.100973\n",
              "0     0.097659\n",
              "16    0.074032\n",
              "18    0.070286\n",
              "dtype: float64"
            ]
          },
          "metadata": {},
          "execution_count": 297
        }
      ]
    },
    {
      "cell_type": "markdown",
      "metadata": {
        "id": "KP2r-dMAIxNw"
      },
      "source": [
        "13.4) Ordene os scores retornados pelo `pagerank` e imprima as <b> 5 </b> sentenças com maior score."
      ]
    },
    {
      "cell_type": "code",
      "metadata": {
        "id": "p0vpIWCXIxNx",
        "colab": {
          "base_uri": "https://localhost:8080/"
        },
        "outputId": "067624f6-719e-4083-db50-fe3f971ea8e6"
      },
      "source": [
        "# Fazendo a impressão dos maiores scores\n",
        "index_media = sorted(df_matriz_similaridade.mean().sort_values().index[-5:])\n",
        "index_media"
      ],
      "execution_count": null,
      "outputs": [
        {
          "output_type": "execute_result",
          "data": {
            "text/plain": [
              "[2, 5, 7, 8, 17]"
            ]
          },
          "metadata": {},
          "execution_count": 298
        }
      ]
    },
    {
      "cell_type": "code",
      "source": [
        "# Criei a sumarização das 5 frases mais relevantes\n",
        "' '.join([noticia_sents[i] for i in index_media])"
      ],
      "metadata": {
        "colab": {
          "base_uri": "https://localhost:8080/",
          "height": 105
        },
        "id": "Y42emrZsSb-g",
        "outputId": "83895f27-dde6-4a37-f7dd-ee779372e519"
      },
      "execution_count": null,
      "outputs": [
        {
          "output_type": "execute_result",
          "data": {
            "text/plain": [
              "'A Rússia anunciou que vai restringir o acesso ao Instagram na próxima segunda-feira (14) como resposta à mudança de política para discurso de ódio da Meta, controladora do Instagram e também das plataformas Facebook e WhatsApp. Os russos usam muito mais o Instagram do que o Facebook, a rede social com mais usuários no mundo, segundo dados da consultoria eMarketer publicados pela agência France Presse. O Instagram não divulga dados de usuários por país, mas, na sexta, Mosseri postou que são 80 milhões na Rússia. \"Essa decisão cortará 80 milhões na Rússia uns dos outros e do resto do mundo, já que cerca de 80% das pessoas na Rússia seguem uma conta do Instagram fora de seu país. A decisão é uma resposta à mudança de política sobre discurso de ódio da Meta, controladora do Facebook, do WhatsApp e do Instagram.'"
            ],
            "application/vnd.google.colaboratory.intrinsic+json": {
              "type": "string"
            }
          },
          "metadata": {},
          "execution_count": 299
        }
      ]
    },
    {
      "cell_type": "code",
      "source": [
        "# ranking das sentenças utilizando o método pagerank do pacote networkx\n",
        "grafo_matrix = nx.from_numpy_array(matriz_similaridade)\n",
        "grafo_matrix"
      ],
      "metadata": {
        "colab": {
          "base_uri": "https://localhost:8080/"
        },
        "id": "4L5JAbwUUQqh",
        "outputId": "bdcdf9bc-32ef-4f3c-d960-fc627fdb0a20"
      },
      "execution_count": null,
      "outputs": [
        {
          "output_type": "execute_result",
          "data": {
            "text/plain": [
              "<networkx.classes.graph.Graph at 0x7f73588989d0>"
            ]
          },
          "metadata": {},
          "execution_count": 300
        }
      ]
    },
    {
      "cell_type": "code",
      "source": [
        "# Imprime score\n",
        "scores_page_rank = nx.pagerank(grafo_matrix)"
      ],
      "metadata": {
        "id": "knkr-IO1UXrc"
      },
      "execution_count": null,
      "outputs": []
    },
    {
      "cell_type": "code",
      "source": [
        "scores_sorted = dict(sorted(scores_page_rank.items(), key=operator.itemgetter(1),reverse=True))"
      ],
      "metadata": {
        "id": "dCp8-vgMVbm6"
      },
      "execution_count": null,
      "outputs": []
    },
    {
      "cell_type": "code",
      "source": [
        "index_page_rank = list(scores_sorted.keys())[:5]\n",
        "index_page_rank"
      ],
      "metadata": {
        "colab": {
          "base_uri": "https://localhost:8080/"
        },
        "id": "u7k-oa2yXDEd",
        "outputId": "9578e820-ad29-424f-f104-b81aed0226a7"
      },
      "execution_count": null,
      "outputs": [
        {
          "output_type": "execute_result",
          "data": {
            "text/plain": [
              "[7, 2, 17, 5, 8]"
            ]
          },
          "metadata": {},
          "execution_count": 303
        }
      ]
    },
    {
      "cell_type": "code",
      "source": [
        "# Criei a sumarização das 5 frases mais relevantes\n",
        "' '.join([noticia_sents[i] for i in index_page_rank])"
      ],
      "metadata": {
        "colab": {
          "base_uri": "https://localhost:8080/",
          "height": 105
        },
        "id": "uYsgpo78XaBu",
        "outputId": "38ab2f47-5054-4cd6-eb13-9cd7fef9518d"
      },
      "execution_count": null,
      "outputs": [
        {
          "output_type": "execute_result",
          "data": {
            "text/plain": [
              "'O Instagram não divulga dados de usuários por país, mas, na sexta, Mosseri postou que são 80 milhões na Rússia. A Rússia anunciou que vai restringir o acesso ao Instagram na próxima segunda-feira (14) como resposta à mudança de política para discurso de ódio da Meta, controladora do Instagram e também das plataformas Facebook e WhatsApp. A decisão é uma resposta à mudança de política sobre discurso de ódio da Meta, controladora do Facebook, do WhatsApp e do Instagram. Os russos usam muito mais o Instagram do que o Facebook, a rede social com mais usuários no mundo, segundo dados da consultoria eMarketer publicados pela agência France Presse. \"Essa decisão cortará 80 milhões na Rússia uns dos outros e do resto do mundo, já que cerca de 80% das pessoas na Rússia seguem uma conta do Instagram fora de seu país.'"
            ],
            "application/vnd.google.colaboratory.intrinsic+json": {
              "type": "string"
            }
          },
          "metadata": {},
          "execution_count": 304
        }
      ]
    },
    {
      "cell_type": "markdown",
      "metadata": {
        "id": "cAPFvduYIxN0"
      },
      "source": [
        "<b> Atividade </b>\n",
        "\n",
        "14) Analise o resultado da sumarização, construindo uma crítica sobre a qualidade e relevância da mesma.\n",
        "<br><b>R.: Considerando os métodos utilizandomédia ou o Pagerank, os resultados são iguais (2, 5, 7, 8 e 17). Dessa forma os 2 métodos são bem eficientes. </b>"
      ]
    },
    {
      "cell_type": "markdown",
      "metadata": {
        "id": "jqfzs38pIxN4"
      },
      "source": [
        "<b> Atividade </b>\n",
        "\n",
        "15) Faça o exercício 13 mais uma vez, agora substituindo a representação BoW pela TFIDF, usando o TDIDFVectorizer"
      ]
    },
    {
      "cell_type": "markdown",
      "metadata": {
        "id": "GW122tJlIxN8"
      },
      "source": [
        "<b> Atividade </b>\n",
        "\n",
        "16) Faça uma comparação dos resultados de sumarização obtidos pelas técnicas de Bag of Words e TFIDF, explicitando as diferenças observadas de forma concreta e exemplificando suas análises com frases dos textos."
      ]
    },
    {
      "cell_type": "markdown",
      "metadata": {
        "id": "FM1YVoWKIxOB"
      },
      "source": [
        "<b> Desafio! (opcional, valendo pontos extras) </b>\n",
        "\n",
        "Implemente e analise os resultados de uma solução que faça a sumarização dos textos utilizando Word Embeddings + WMD"
      ]
    },
    {
      "cell_type": "code",
      "metadata": {
        "id": "60kbPHNxIxOC"
      },
      "source": [],
      "execution_count": null,
      "outputs": []
    }
  ]
}