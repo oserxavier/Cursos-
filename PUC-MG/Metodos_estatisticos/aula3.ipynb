{
 "cells": [
  {
   "cell_type": "code",
   "execution_count": 1,
   "id": "11b3bb0d",
   "metadata": {},
   "outputs": [],
   "source": [
    "# Regressão Linear Múltipla"
   ]
  },
  {
   "cell_type": "code",
   "execution_count": 2,
   "id": "23008935",
   "metadata": {},
   "outputs": [],
   "source": [
    "import numpy as np\n",
    "import pandas as pd"
   ]
  },
  {
   "cell_type": "code",
   "execution_count": 3,
   "id": "27abe36a",
   "metadata": {},
   "outputs": [],
   "source": [
    "enem = pd.read_csv('enem_2019_tratado.csv', sep=',', encoding='iso-8859-1')"
   ]
  },
  {
   "cell_type": "code",
   "execution_count": 4,
   "id": "c357be32",
   "metadata": {
    "scrolled": true
   },
   "outputs": [
    {
     "data": {
      "text/html": [
       "<div>\n",
       "<style scoped>\n",
       "    .dataframe tbody tr th:only-of-type {\n",
       "        vertical-align: middle;\n",
       "    }\n",
       "\n",
       "    .dataframe tbody tr th {\n",
       "        vertical-align: top;\n",
       "    }\n",
       "\n",
       "    .dataframe thead th {\n",
       "        text-align: right;\n",
       "    }\n",
       "</style>\n",
       "<table border=\"1\" class=\"dataframe\">\n",
       "  <thead>\n",
       "    <tr style=\"text-align: right;\">\n",
       "      <th></th>\n",
       "      <th>NU_INSCRICAO</th>\n",
       "      <th>NO_MUNICIPIO_RESIDENCIA</th>\n",
       "      <th>IDADE</th>\n",
       "      <th>SEXO</th>\n",
       "      <th>TP_ESTADO_CIVIL</th>\n",
       "      <th>RACA</th>\n",
       "      <th>TP_NACIONALIDADE</th>\n",
       "      <th>TP_ST_CONCLUSAO</th>\n",
       "      <th>ESCOLA</th>\n",
       "      <th>CO_ESCOLA</th>\n",
       "      <th>...</th>\n",
       "      <th>NOTA_MT</th>\n",
       "      <th>TP_LINGUA</th>\n",
       "      <th>TP_STATUS_REDACAO</th>\n",
       "      <th>COMP1</th>\n",
       "      <th>COMP2</th>\n",
       "      <th>COMP3</th>\n",
       "      <th>COMP4</th>\n",
       "      <th>COMP5</th>\n",
       "      <th>NOTA_REDACAO</th>\n",
       "      <th>INTERNET</th>\n",
       "    </tr>\n",
       "  </thead>\n",
       "  <tbody>\n",
       "    <tr>\n",
       "      <th>0</th>\n",
       "      <td>1,90E+11</td>\n",
       "      <td>Santa Isabel</td>\n",
       "      <td>22</td>\n",
       "      <td>M</td>\n",
       "      <td>1</td>\n",
       "      <td>parda</td>\n",
       "      <td>1</td>\n",
       "      <td>1</td>\n",
       "      <td>não_respondeu</td>\n",
       "      <td>NaN</td>\n",
       "      <td>...</td>\n",
       "      <td>600.2</td>\n",
       "      <td>Inglês</td>\n",
       "      <td>1.0</td>\n",
       "      <td>160.0</td>\n",
       "      <td>200.0</td>\n",
       "      <td>180.0</td>\n",
       "      <td>200.0</td>\n",
       "      <td>200.0</td>\n",
       "      <td>940.0</td>\n",
       "      <td>Sim</td>\n",
       "    </tr>\n",
       "    <tr>\n",
       "      <th>1</th>\n",
       "      <td>1,90E+11</td>\n",
       "      <td>São Paulo</td>\n",
       "      <td>17</td>\n",
       "      <td>F</td>\n",
       "      <td>1</td>\n",
       "      <td>parda</td>\n",
       "      <td>1</td>\n",
       "      <td>2</td>\n",
       "      <td>privada</td>\n",
       "      <td>15567761.0</td>\n",
       "      <td>...</td>\n",
       "      <td>731.8</td>\n",
       "      <td>Inglês</td>\n",
       "      <td>1.0</td>\n",
       "      <td>160.0</td>\n",
       "      <td>120.0</td>\n",
       "      <td>200.0</td>\n",
       "      <td>200.0</td>\n",
       "      <td>200.0</td>\n",
       "      <td>880.0</td>\n",
       "      <td>Não</td>\n",
       "    </tr>\n",
       "    <tr>\n",
       "      <th>2</th>\n",
       "      <td>1,90E+11</td>\n",
       "      <td>São Bernardo do Campo</td>\n",
       "      <td>19</td>\n",
       "      <td>M</td>\n",
       "      <td>1</td>\n",
       "      <td>parda</td>\n",
       "      <td>1</td>\n",
       "      <td>2</td>\n",
       "      <td>pública</td>\n",
       "      <td>35904958.0</td>\n",
       "      <td>...</td>\n",
       "      <td>393.2</td>\n",
       "      <td>Espanhol</td>\n",
       "      <td>1.0</td>\n",
       "      <td>80.0</td>\n",
       "      <td>160.0</td>\n",
       "      <td>120.0</td>\n",
       "      <td>100.0</td>\n",
       "      <td>100.0</td>\n",
       "      <td>560.0</td>\n",
       "      <td>Sim</td>\n",
       "    </tr>\n",
       "    <tr>\n",
       "      <th>3</th>\n",
       "      <td>1,90E+11</td>\n",
       "      <td>Embu-Guaçu</td>\n",
       "      <td>17</td>\n",
       "      <td>F</td>\n",
       "      <td>1</td>\n",
       "      <td>parda</td>\n",
       "      <td>1</td>\n",
       "      <td>2</td>\n",
       "      <td>pública</td>\n",
       "      <td>NaN</td>\n",
       "      <td>...</td>\n",
       "      <td>419.2</td>\n",
       "      <td>Inglês</td>\n",
       "      <td>1.0</td>\n",
       "      <td>120.0</td>\n",
       "      <td>120.0</td>\n",
       "      <td>120.0</td>\n",
       "      <td>120.0</td>\n",
       "      <td>80.0</td>\n",
       "      <td>560.0</td>\n",
       "      <td>Sim</td>\n",
       "    </tr>\n",
       "    <tr>\n",
       "      <th>4</th>\n",
       "      <td>1,90E+11</td>\n",
       "      <td>Guarulhos</td>\n",
       "      <td>23</td>\n",
       "      <td>F</td>\n",
       "      <td>1</td>\n",
       "      <td>branca</td>\n",
       "      <td>1</td>\n",
       "      <td>1</td>\n",
       "      <td>não_respondeu</td>\n",
       "      <td>NaN</td>\n",
       "      <td>...</td>\n",
       "      <td>796.1</td>\n",
       "      <td>Inglês</td>\n",
       "      <td>1.0</td>\n",
       "      <td>160.0</td>\n",
       "      <td>200.0</td>\n",
       "      <td>180.0</td>\n",
       "      <td>180.0</td>\n",
       "      <td>160.0</td>\n",
       "      <td>880.0</td>\n",
       "      <td>Sim</td>\n",
       "    </tr>\n",
       "    <tr>\n",
       "      <th>5</th>\n",
       "      <td>1,90E+11</td>\n",
       "      <td>São José do Rio Preto</td>\n",
       "      <td>18</td>\n",
       "      <td>F</td>\n",
       "      <td>1</td>\n",
       "      <td>branca</td>\n",
       "      <td>1</td>\n",
       "      <td>2</td>\n",
       "      <td>pública</td>\n",
       "      <td>35028927.0</td>\n",
       "      <td>...</td>\n",
       "      <td>612.8</td>\n",
       "      <td>Espanhol</td>\n",
       "      <td>1.0</td>\n",
       "      <td>120.0</td>\n",
       "      <td>160.0</td>\n",
       "      <td>120.0</td>\n",
       "      <td>80.0</td>\n",
       "      <td>100.0</td>\n",
       "      <td>580.0</td>\n",
       "      <td>Não</td>\n",
       "    </tr>\n",
       "    <tr>\n",
       "      <th>6</th>\n",
       "      <td>1,90E+11</td>\n",
       "      <td>Franca</td>\n",
       "      <td>32</td>\n",
       "      <td>M</td>\n",
       "      <td>1</td>\n",
       "      <td>parda</td>\n",
       "      <td>1</td>\n",
       "      <td>1</td>\n",
       "      <td>não_respondeu</td>\n",
       "      <td>NaN</td>\n",
       "      <td>...</td>\n",
       "      <td>584.1</td>\n",
       "      <td>Espanhol</td>\n",
       "      <td>1.0</td>\n",
       "      <td>120.0</td>\n",
       "      <td>120.0</td>\n",
       "      <td>120.0</td>\n",
       "      <td>120.0</td>\n",
       "      <td>100.0</td>\n",
       "      <td>580.0</td>\n",
       "      <td>Sim</td>\n",
       "    </tr>\n",
       "    <tr>\n",
       "      <th>7</th>\n",
       "      <td>1,90E+11</td>\n",
       "      <td>Santo André</td>\n",
       "      <td>20</td>\n",
       "      <td>F</td>\n",
       "      <td>1</td>\n",
       "      <td>parda</td>\n",
       "      <td>1</td>\n",
       "      <td>1</td>\n",
       "      <td>não_respondeu</td>\n",
       "      <td>NaN</td>\n",
       "      <td>...</td>\n",
       "      <td>508.5</td>\n",
       "      <td>Espanhol</td>\n",
       "      <td>1.0</td>\n",
       "      <td>120.0</td>\n",
       "      <td>120.0</td>\n",
       "      <td>120.0</td>\n",
       "      <td>100.0</td>\n",
       "      <td>80.0</td>\n",
       "      <td>540.0</td>\n",
       "      <td>Sim</td>\n",
       "    </tr>\n",
       "    <tr>\n",
       "      <th>8</th>\n",
       "      <td>1,90E+11</td>\n",
       "      <td>São Paulo</td>\n",
       "      <td>26</td>\n",
       "      <td>M</td>\n",
       "      <td>1</td>\n",
       "      <td>branca</td>\n",
       "      <td>1</td>\n",
       "      <td>1</td>\n",
       "      <td>não_respondeu</td>\n",
       "      <td>NaN</td>\n",
       "      <td>...</td>\n",
       "      <td>681.2</td>\n",
       "      <td>Espanhol</td>\n",
       "      <td>1.0</td>\n",
       "      <td>180.0</td>\n",
       "      <td>200.0</td>\n",
       "      <td>200.0</td>\n",
       "      <td>200.0</td>\n",
       "      <td>120.0</td>\n",
       "      <td>900.0</td>\n",
       "      <td>Sim</td>\n",
       "    </tr>\n",
       "    <tr>\n",
       "      <th>9</th>\n",
       "      <td>1,90E+11</td>\n",
       "      <td>Santo André</td>\n",
       "      <td>44</td>\n",
       "      <td>F</td>\n",
       "      <td>2</td>\n",
       "      <td>parda</td>\n",
       "      <td>1</td>\n",
       "      <td>1</td>\n",
       "      <td>não_respondeu</td>\n",
       "      <td>NaN</td>\n",
       "      <td>...</td>\n",
       "      <td>488.1</td>\n",
       "      <td>Espanhol</td>\n",
       "      <td>1.0</td>\n",
       "      <td>120.0</td>\n",
       "      <td>120.0</td>\n",
       "      <td>120.0</td>\n",
       "      <td>120.0</td>\n",
       "      <td>40.0</td>\n",
       "      <td>520.0</td>\n",
       "      <td>Sim</td>\n",
       "    </tr>\n",
       "  </tbody>\n",
       "</table>\n",
       "<p>10 rows × 28 columns</p>\n",
       "</div>"
      ],
      "text/plain": [
       "  NU_INSCRICAO NO_MUNICIPIO_RESIDENCIA  IDADE SEXO  TP_ESTADO_CIVIL    RACA  \\\n",
       "0     1,90E+11            Santa Isabel     22    M                1   parda   \n",
       "1     1,90E+11               São Paulo     17    F                1   parda   \n",
       "2     1,90E+11   São Bernardo do Campo     19    M                1   parda   \n",
       "3     1,90E+11              Embu-Guaçu     17    F                1   parda   \n",
       "4     1,90E+11               Guarulhos     23    F                1  branca   \n",
       "5     1,90E+11   São José do Rio Preto     18    F                1  branca   \n",
       "6     1,90E+11                  Franca     32    M                1   parda   \n",
       "7     1,90E+11             Santo André     20    F                1   parda   \n",
       "8     1,90E+11               São Paulo     26    M                1  branca   \n",
       "9     1,90E+11             Santo André     44    F                2   parda   \n",
       "\n",
       "   TP_NACIONALIDADE  TP_ST_CONCLUSAO         ESCOLA   CO_ESCOLA  ... NOTA_MT  \\\n",
       "0                 1                1  não_respondeu         NaN  ...   600.2   \n",
       "1                 1                2        privada  15567761.0  ...   731.8   \n",
       "2                 1                2        pública  35904958.0  ...   393.2   \n",
       "3                 1                2        pública         NaN  ...   419.2   \n",
       "4                 1                1  não_respondeu         NaN  ...   796.1   \n",
       "5                 1                2        pública  35028927.0  ...   612.8   \n",
       "6                 1                1  não_respondeu         NaN  ...   584.1   \n",
       "7                 1                1  não_respondeu         NaN  ...   508.5   \n",
       "8                 1                1  não_respondeu         NaN  ...   681.2   \n",
       "9                 1                1  não_respondeu         NaN  ...   488.1   \n",
       "\n",
       "   TP_LINGUA  TP_STATUS_REDACAO  COMP1  COMP2  COMP3  COMP4  COMP5  \\\n",
       "0     Inglês                1.0  160.0  200.0  180.0  200.0  200.0   \n",
       "1     Inglês                1.0  160.0  120.0  200.0  200.0  200.0   \n",
       "2   Espanhol                1.0   80.0  160.0  120.0  100.0  100.0   \n",
       "3     Inglês                1.0  120.0  120.0  120.0  120.0   80.0   \n",
       "4     Inglês                1.0  160.0  200.0  180.0  180.0  160.0   \n",
       "5   Espanhol                1.0  120.0  160.0  120.0   80.0  100.0   \n",
       "6   Espanhol                1.0  120.0  120.0  120.0  120.0  100.0   \n",
       "7   Espanhol                1.0  120.0  120.0  120.0  100.0   80.0   \n",
       "8   Espanhol                1.0  180.0  200.0  200.0  200.0  120.0   \n",
       "9   Espanhol                1.0  120.0  120.0  120.0  120.0   40.0   \n",
       "\n",
       "   NOTA_REDACAO INTERNET  \n",
       "0         940.0      Sim  \n",
       "1         880.0      Não  \n",
       "2         560.0      Sim  \n",
       "3         560.0      Sim  \n",
       "4         880.0      Sim  \n",
       "5         580.0      Não  \n",
       "6         580.0      Sim  \n",
       "7         540.0      Sim  \n",
       "8         900.0      Sim  \n",
       "9         520.0      Sim  \n",
       "\n",
       "[10 rows x 28 columns]"
      ]
     },
     "execution_count": 4,
     "metadata": {},
     "output_type": "execute_result"
    }
   ],
   "source": [
    "enem.head(10)"
   ]
  },
  {
   "cell_type": "code",
   "execution_count": 5,
   "id": "a22bc0ca",
   "metadata": {},
   "outputs": [],
   "source": [
    "# Análise inicial"
   ]
  },
  {
   "cell_type": "code",
   "execution_count": 6,
   "id": "0f33d0fc",
   "metadata": {},
   "outputs": [
    {
     "data": {
      "text/plain": [
       "Index(['NU_INSCRICAO', 'NO_MUNICIPIO_RESIDENCIA', 'IDADE', 'SEXO',\n",
       "       'TP_ESTADO_CIVIL', 'RACA', 'TP_NACIONALIDADE', 'TP_ST_CONCLUSAO',\n",
       "       'ESCOLA', 'CO_ESCOLA', 'NO_MUNICIPIO_ESC', 'TP_PRESENCA_CN',\n",
       "       'TP_PRESENCA_CH', 'TP_PRESENCA_LC', 'TP_PRESENCA_MT', 'NOTA_CN',\n",
       "       'NOTA_CH', 'NOTA_LC', 'NOTA_MT', 'TP_LINGUA', 'TP_STATUS_REDACAO',\n",
       "       'COMP1', 'COMP2', 'COMP3', 'COMP4', 'COMP5', 'NOTA_REDACAO',\n",
       "       'INTERNET'],\n",
       "      dtype='object')"
      ]
     },
     "execution_count": 6,
     "metadata": {},
     "output_type": "execute_result"
    }
   ],
   "source": [
    "enem.columns"
   ]
  },
  {
   "cell_type": "code",
   "execution_count": 7,
   "id": "2276f746",
   "metadata": {},
   "outputs": [
    {
     "data": {
      "text/plain": [
       "(499940, 28)"
      ]
     },
     "execution_count": 7,
     "metadata": {},
     "output_type": "execute_result"
    }
   ],
   "source": [
    "enem.shape"
   ]
  },
  {
   "cell_type": "code",
   "execution_count": 8,
   "id": "b1be2a58",
   "metadata": {},
   "outputs": [],
   "source": [
    "# Selecionar apenas um colégio para fins de análise"
   ]
  },
  {
   "cell_type": "code",
   "execution_count": 9,
   "id": "3c99497e",
   "metadata": {},
   "outputs": [],
   "source": [
    "colegiox = enem.loc[enem.CO_ESCOLA == 35132287]"
   ]
  },
  {
   "cell_type": "code",
   "execution_count": 10,
   "id": "c509efc0",
   "metadata": {},
   "outputs": [
    {
     "data": {
      "text/html": [
       "<div>\n",
       "<style scoped>\n",
       "    .dataframe tbody tr th:only-of-type {\n",
       "        vertical-align: middle;\n",
       "    }\n",
       "\n",
       "    .dataframe tbody tr th {\n",
       "        vertical-align: top;\n",
       "    }\n",
       "\n",
       "    .dataframe thead th {\n",
       "        text-align: right;\n",
       "    }\n",
       "</style>\n",
       "<table border=\"1\" class=\"dataframe\">\n",
       "  <thead>\n",
       "    <tr style=\"text-align: right;\">\n",
       "      <th></th>\n",
       "      <th>NU_INSCRICAO</th>\n",
       "      <th>NO_MUNICIPIO_RESIDENCIA</th>\n",
       "      <th>IDADE</th>\n",
       "      <th>SEXO</th>\n",
       "      <th>TP_ESTADO_CIVIL</th>\n",
       "      <th>RACA</th>\n",
       "      <th>TP_NACIONALIDADE</th>\n",
       "      <th>TP_ST_CONCLUSAO</th>\n",
       "      <th>ESCOLA</th>\n",
       "      <th>CO_ESCOLA</th>\n",
       "      <th>...</th>\n",
       "      <th>NOTA_MT</th>\n",
       "      <th>TP_LINGUA</th>\n",
       "      <th>TP_STATUS_REDACAO</th>\n",
       "      <th>COMP1</th>\n",
       "      <th>COMP2</th>\n",
       "      <th>COMP3</th>\n",
       "      <th>COMP4</th>\n",
       "      <th>COMP5</th>\n",
       "      <th>NOTA_REDACAO</th>\n",
       "      <th>INTERNET</th>\n",
       "    </tr>\n",
       "  </thead>\n",
       "  <tbody>\n",
       "    <tr>\n",
       "      <th>17</th>\n",
       "      <td>1,90E+11</td>\n",
       "      <td>São Paulo</td>\n",
       "      <td>18</td>\n",
       "      <td>F</td>\n",
       "      <td>1</td>\n",
       "      <td>branca</td>\n",
       "      <td>1</td>\n",
       "      <td>2</td>\n",
       "      <td>privada</td>\n",
       "      <td>35132287.0</td>\n",
       "      <td>...</td>\n",
       "      <td>49.1</td>\n",
       "      <td>Inglês</td>\n",
       "      <td>1.0</td>\n",
       "      <td>160.0</td>\n",
       "      <td>140.0</td>\n",
       "      <td>140.0</td>\n",
       "      <td>160.0</td>\n",
       "      <td>160.0</td>\n",
       "      <td>760.0</td>\n",
       "      <td>Sim</td>\n",
       "    </tr>\n",
       "    <tr>\n",
       "      <th>10760</th>\n",
       "      <td>1,90E+11</td>\n",
       "      <td>São Paulo</td>\n",
       "      <td>17</td>\n",
       "      <td>M</td>\n",
       "      <td>1</td>\n",
       "      <td>parda</td>\n",
       "      <td>1</td>\n",
       "      <td>2</td>\n",
       "      <td>privada</td>\n",
       "      <td>35132287.0</td>\n",
       "      <td>...</td>\n",
       "      <td>930.5</td>\n",
       "      <td>Inglês</td>\n",
       "      <td>1.0</td>\n",
       "      <td>180.0</td>\n",
       "      <td>200.0</td>\n",
       "      <td>200.0</td>\n",
       "      <td>200.0</td>\n",
       "      <td>140.0</td>\n",
       "      <td>920.0</td>\n",
       "      <td>Sim</td>\n",
       "    </tr>\n",
       "    <tr>\n",
       "      <th>13315</th>\n",
       "      <td>1,90E+11</td>\n",
       "      <td>São Paulo</td>\n",
       "      <td>17</td>\n",
       "      <td>F</td>\n",
       "      <td>1</td>\n",
       "      <td>branca</td>\n",
       "      <td>1</td>\n",
       "      <td>2</td>\n",
       "      <td>privada</td>\n",
       "      <td>35132287.0</td>\n",
       "      <td>...</td>\n",
       "      <td>663.9</td>\n",
       "      <td>Inglês</td>\n",
       "      <td>1.0</td>\n",
       "      <td>160.0</td>\n",
       "      <td>140.0</td>\n",
       "      <td>160.0</td>\n",
       "      <td>200.0</td>\n",
       "      <td>120.0</td>\n",
       "      <td>780.0</td>\n",
       "      <td>Sim</td>\n",
       "    </tr>\n",
       "    <tr>\n",
       "      <th>20006</th>\n",
       "      <td>1,90E+11</td>\n",
       "      <td>São Paulo</td>\n",
       "      <td>17</td>\n",
       "      <td>F</td>\n",
       "      <td>1</td>\n",
       "      <td>branca</td>\n",
       "      <td>1</td>\n",
       "      <td>2</td>\n",
       "      <td>privada</td>\n",
       "      <td>35132287.0</td>\n",
       "      <td>...</td>\n",
       "      <td>771.9</td>\n",
       "      <td>Inglês</td>\n",
       "      <td>1.0</td>\n",
       "      <td>140.0</td>\n",
       "      <td>180.0</td>\n",
       "      <td>160.0</td>\n",
       "      <td>180.0</td>\n",
       "      <td>140.0</td>\n",
       "      <td>800.0</td>\n",
       "      <td>Sim</td>\n",
       "    </tr>\n",
       "    <tr>\n",
       "      <th>26697</th>\n",
       "      <td>1,90E+11</td>\n",
       "      <td>São Paulo</td>\n",
       "      <td>18</td>\n",
       "      <td>F</td>\n",
       "      <td>1</td>\n",
       "      <td>branca</td>\n",
       "      <td>1</td>\n",
       "      <td>2</td>\n",
       "      <td>privada</td>\n",
       "      <td>35132287.0</td>\n",
       "      <td>...</td>\n",
       "      <td>663.1</td>\n",
       "      <td>Inglês</td>\n",
       "      <td>1.0</td>\n",
       "      <td>160.0</td>\n",
       "      <td>200.0</td>\n",
       "      <td>200.0</td>\n",
       "      <td>200.0</td>\n",
       "      <td>200.0</td>\n",
       "      <td>960.0</td>\n",
       "      <td>Sim</td>\n",
       "    </tr>\n",
       "  </tbody>\n",
       "</table>\n",
       "<p>5 rows × 28 columns</p>\n",
       "</div>"
      ],
      "text/plain": [
       "      NU_INSCRICAO NO_MUNICIPIO_RESIDENCIA  IDADE SEXO  TP_ESTADO_CIVIL  \\\n",
       "17        1,90E+11               São Paulo     18    F                1   \n",
       "10760     1,90E+11               São Paulo     17    M                1   \n",
       "13315     1,90E+11               São Paulo     17    F                1   \n",
       "20006     1,90E+11               São Paulo     17    F                1   \n",
       "26697     1,90E+11               São Paulo     18    F                1   \n",
       "\n",
       "         RACA  TP_NACIONALIDADE  TP_ST_CONCLUSAO   ESCOLA   CO_ESCOLA  ...  \\\n",
       "17     branca                 1                2  privada  35132287.0  ...   \n",
       "10760   parda                 1                2  privada  35132287.0  ...   \n",
       "13315  branca                 1                2  privada  35132287.0  ...   \n",
       "20006  branca                 1                2  privada  35132287.0  ...   \n",
       "26697  branca                 1                2  privada  35132287.0  ...   \n",
       "\n",
       "      NOTA_MT  TP_LINGUA  TP_STATUS_REDACAO  COMP1  COMP2  COMP3  COMP4  \\\n",
       "17       49.1     Inglês                1.0  160.0  140.0  140.0  160.0   \n",
       "10760   930.5     Inglês                1.0  180.0  200.0  200.0  200.0   \n",
       "13315   663.9     Inglês                1.0  160.0  140.0  160.0  200.0   \n",
       "20006   771.9     Inglês                1.0  140.0  180.0  160.0  180.0   \n",
       "26697   663.1     Inglês                1.0  160.0  200.0  200.0  200.0   \n",
       "\n",
       "       COMP5  NOTA_REDACAO INTERNET  \n",
       "17     160.0         760.0      Sim  \n",
       "10760  140.0         920.0      Sim  \n",
       "13315  120.0         780.0      Sim  \n",
       "20006  140.0         800.0      Sim  \n",
       "26697  200.0         960.0      Sim  \n",
       "\n",
       "[5 rows x 28 columns]"
      ]
     },
     "execution_count": 10,
     "metadata": {},
     "output_type": "execute_result"
    }
   ],
   "source": [
    "colegiox.head()"
   ]
  },
  {
   "cell_type": "code",
   "execution_count": 11,
   "id": "a1f01680",
   "metadata": {},
   "outputs": [
    {
     "data": {
      "text/plain": [
       "(130, 28)"
      ]
     },
     "execution_count": 11,
     "metadata": {},
     "output_type": "execute_result"
    }
   ],
   "source": [
    "colegiox.shape"
   ]
  },
  {
   "cell_type": "code",
   "execution_count": 12,
   "id": "0b451e45",
   "metadata": {},
   "outputs": [],
   "source": [
    "# Valores Faltantes - valores missing (NA)"
   ]
  },
  {
   "cell_type": "code",
   "execution_count": 13,
   "id": "601831de",
   "metadata": {},
   "outputs": [
    {
     "data": {
      "text/plain": [
       "NU_INSCRICAO               0\n",
       "NO_MUNICIPIO_RESIDENCIA    0\n",
       "IDADE                      0\n",
       "SEXO                       0\n",
       "TP_ESTADO_CIVIL            0\n",
       "RACA                       0\n",
       "TP_NACIONALIDADE           0\n",
       "TP_ST_CONCLUSAO            0\n",
       "ESCOLA                     0\n",
       "CO_ESCOLA                  0\n",
       "NO_MUNICIPIO_ESC           0\n",
       "TP_PRESENCA_CN             0\n",
       "TP_PRESENCA_CH             0\n",
       "TP_PRESENCA_LC             0\n",
       "TP_PRESENCA_MT             0\n",
       "NOTA_CN                    0\n",
       "NOTA_CH                    0\n",
       "NOTA_LC                    0\n",
       "NOTA_MT                    0\n",
       "TP_LINGUA                  0\n",
       "TP_STATUS_REDACAO          0\n",
       "COMP1                      0\n",
       "COMP2                      0\n",
       "COMP3                      0\n",
       "COMP4                      0\n",
       "COMP5                      0\n",
       "NOTA_REDACAO               0\n",
       "INTERNET                   0\n",
       "dtype: int64"
      ]
     },
     "execution_count": 13,
     "metadata": {},
     "output_type": "execute_result"
    }
   ],
   "source": [
    "colegiox.isnull().sum()"
   ]
  },
  {
   "cell_type": "code",
   "execution_count": 14,
   "id": "7d09895d",
   "metadata": {},
   "outputs": [],
   "source": [
    "# Análise dos tipos das nossas variáveis"
   ]
  },
  {
   "cell_type": "code",
   "execution_count": 15,
   "id": "09cf8820",
   "metadata": {},
   "outputs": [
    {
     "data": {
      "text/plain": [
       "NU_INSCRICAO                object\n",
       "NO_MUNICIPIO_RESIDENCIA     object\n",
       "IDADE                        int64\n",
       "SEXO                        object\n",
       "TP_ESTADO_CIVIL              int64\n",
       "RACA                        object\n",
       "TP_NACIONALIDADE             int64\n",
       "TP_ST_CONCLUSAO              int64\n",
       "ESCOLA                      object\n",
       "CO_ESCOLA                  float64\n",
       "NO_MUNICIPIO_ESC            object\n",
       "TP_PRESENCA_CN               int64\n",
       "TP_PRESENCA_CH               int64\n",
       "TP_PRESENCA_LC               int64\n",
       "TP_PRESENCA_MT               int64\n",
       "NOTA_CN                    float64\n",
       "NOTA_CH                    float64\n",
       "NOTA_LC                    float64\n",
       "NOTA_MT                    float64\n",
       "TP_LINGUA                   object\n",
       "TP_STATUS_REDACAO          float64\n",
       "COMP1                      float64\n",
       "COMP2                      float64\n",
       "COMP3                      float64\n",
       "COMP4                      float64\n",
       "COMP5                      float64\n",
       "NOTA_REDACAO               float64\n",
       "INTERNET                    object\n",
       "dtype: object"
      ]
     },
     "execution_count": 15,
     "metadata": {},
     "output_type": "execute_result"
    }
   ],
   "source": [
    "colegiox.dtypes"
   ]
  },
  {
   "cell_type": "code",
   "execution_count": 16,
   "id": "c5b99fc7",
   "metadata": {},
   "outputs": [],
   "source": [
    "import matplotlib.pyplot as plt\n",
    "import seaborn as sns"
   ]
  },
  {
   "cell_type": "code",
   "execution_count": 18,
   "id": "b80da6b2",
   "metadata": {},
   "outputs": [],
   "source": [
    "corr_df = colegiox.corr()"
   ]
  },
  {
   "cell_type": "code",
   "execution_count": 19,
   "id": "e6114fb5",
   "metadata": {},
   "outputs": [
    {
     "data": {
      "image/png": "[encoded data removed]",
      "text/plain": [
       "<Figure size 1440x1080 with 2 Axes>"
      ]
     },
     "metadata": {
      "needs_background": "light"
     },
     "output_type": "display_data"
    }
   ],
   "source": [
    "plt.figure(figsize=(20,15))\n",
    "sns.heatmap(corr_df, annot=True)\n",
    "plt.show()"
   ]
  },
  {
   "cell_type": "markdown",
   "id": "56cec52c",
   "metadata": {},
   "source": [
    "# Premissa 1: Correlação"
   ]
  },
  {
   "cell_type": "markdown",
   "id": "7112678c",
   "metadata": {},
   "source": [
    "Regressão Linear Múltipla com Statsmodel"
   ]
  },
  {
   "cell_type": "code",
   "execution_count": 20,
   "id": "4aee2839",
   "metadata": {},
   "outputs": [],
   "source": [
    "import statsmodels.formula.api as smf\n",
    "import statsmodels.stats.api as sms"
   ]
  },
  {
   "cell_type": "markdown",
   "id": "3051c75a",
   "metadata": {},
   "source": [
    "# Modelo 1"
   ]
  },
  {
   "cell_type": "code",
   "execution_count": 21,
   "id": "a280aa66",
   "metadata": {},
   "outputs": [],
   "source": [
    "# Criação do MODELO 1\n",
    "# Y = bo + b1x1 + ... + bpxp\n",
    "\n",
    "NOTA_REDACAO = bo + b1*COMP2 + b2*COMP4 + b3*COMP5\n",
    "Intercept = bo\n",
    "\n",
    "NOTA_REDACAO = 116.1987 + 1.2831*COMP2 + 1.7298*COMP4 + 1.1993*COMP5\n"
   ]
  },
  {
   "cell_type": "code",
   "execution_count": 22,
   "id": "3a747df5",
   "metadata": {},
   "outputs": [],
   "source": [
    "modelo1 = smf.ols('NOTA_REDACAO ~ COMP2 + COMP4 + COMP5', data = colegiox).fit()"
   ]
  },
  {
   "cell_type": "markdown",
   "id": "5781737b",
   "metadata": {},
   "source": [
    "Teste de Hipótese de Significância estatística do modelo construído\n",
    "\n",
    "Ho = o modelo é significativo\n",
    "\n",
    "Ha = o modelo não é significativo\n",
    "\n",
    "Prob (F-statistic) < 0.05 ==> valida o nosso modelo de regressão ajustado"
   ]
  },
  {
   "cell_type": "markdown",
   "id": "8e1396a6",
   "metadata": {},
   "source": [
    "Testes de Hipótese - significância dos coeficientes ajustados\n",
    "Valida cada coeficiente da regressão - P>|t| < 0.05\n",
    "Ho = o coeficiente é significativo\n",
    "Ha = o coeficiente não é significativo\n"
   ]
  },
  {
   "cell_type": "code",
   "execution_count": 23,
   "id": "d3ec8843",
   "metadata": {},
   "outputs": [
    {
     "name": "stdout",
     "output_type": "stream",
     "text": [
      "                            OLS Regression Results                            \n",
      "==============================================================================\n",
      "Dep. Variable:           NOTA_REDACAO   R-squared:                       0.924\n",
      "Model:                            OLS   Adj. R-squared:                  0.922\n",
      "Method:                 Least Squares   F-statistic:                     507.2\n",
      "Date:                Thu, 18 Aug 2022   Prob (F-statistic):           3.97e-70\n",
      "Time:                        21:08:20   Log-Likelihood:                -604.30\n",
      "No. Observations:                 130   AIC:                             1217.\n",
      "Df Residuals:                     126   BIC:                             1228.\n",
      "Df Model:                           3                                         \n",
      "Covariance Type:            nonrobust                                         \n",
      "==============================================================================\n",
      "                 coef    std err          t      P>|t|      [0.025      0.975]\n",
      "------------------------------------------------------------------------------\n",
      "Intercept    116.1987     19.162      6.064      0.000      78.278     154.119\n",
      "COMP2          1.2831      0.077     16.573      0.000       1.130       1.436\n",
      "COMP4          1.7298      0.104     16.559      0.000       1.523       1.937\n",
      "COMP5          1.1993      0.098     12.290      0.000       1.006       1.392\n",
      "==============================================================================\n",
      "Omnibus:                        5.200   Durbin-Watson:                   2.081\n",
      "Prob(Omnibus):                  0.074   Jarque-Bera (JB):                4.794\n",
      "Skew:                          -0.369   Prob(JB):                       0.0910\n",
      "Kurtosis:                       3.584   Cond. No.                     2.58e+03\n",
      "==============================================================================\n",
      "\n",
      "Notes:\n",
      "[1] Standard Errors assume that the covariance matrix of the errors is correctly specified.\n",
      "[2] The condition number is large, 2.58e+03. This might indicate that there are\n",
      "strong multicollinearity or other numerical problems.\n"
     ]
    }
   ],
   "source": [
    "print(modelo1.summary())"
   ]
  },
  {
   "cell_type": "code",
   "execution_count": 24,
   "id": "e15f14b9",
   "metadata": {},
   "outputs": [
    {
     "data": {
      "text/plain": [
       "1216.59304638052"
      ]
     },
     "execution_count": 24,
     "metadata": {},
     "output_type": "execute_result"
    }
   ],
   "source": [
    "modelo1.aic"
   ]
  },
  {
   "cell_type": "markdown",
   "id": "c256ab50",
   "metadata": {},
   "source": [
    "# Análises das premissas dos modelo 1"
   ]
  },
  {
   "cell_type": "code",
   "execution_count": 25,
   "id": "b50d9b63",
   "metadata": {},
   "outputs": [],
   "source": [
    "import scipy.stats as stats"
   ]
  },
  {
   "cell_type": "code",
   "execution_count": null,
   "id": "bb5a732c",
   "metadata": {},
   "outputs": [],
   "source": [
    "# ei = NOTA_REDACAO - ^yi (116.1987 + 1.2831*140 + 1.7298*160 + 1.1993*160)"
   ]
  },
  {
   "cell_type": "code",
   "execution_count": 26,
   "id": "e5f7b010",
   "metadata": {},
   "outputs": [
    {
     "data": {
      "text/html": [
       "<div>\n",
       "<style scoped>\n",
       "    .dataframe tbody tr th:only-of-type {\n",
       "        vertical-align: middle;\n",
       "    }\n",
       "\n",
       "    .dataframe tbody tr th {\n",
       "        vertical-align: top;\n",
       "    }\n",
       "\n",
       "    .dataframe thead th {\n",
       "        text-align: right;\n",
       "    }\n",
       "</style>\n",
       "<table border=\"1\" class=\"dataframe\">\n",
       "  <thead>\n",
       "    <tr style=\"text-align: right;\">\n",
       "      <th></th>\n",
       "      <th>NU_INSCRICAO</th>\n",
       "      <th>NO_MUNICIPIO_RESIDENCIA</th>\n",
       "      <th>IDADE</th>\n",
       "      <th>SEXO</th>\n",
       "      <th>TP_ESTADO_CIVIL</th>\n",
       "      <th>RACA</th>\n",
       "      <th>TP_NACIONALIDADE</th>\n",
       "      <th>TP_ST_CONCLUSAO</th>\n",
       "      <th>ESCOLA</th>\n",
       "      <th>CO_ESCOLA</th>\n",
       "      <th>...</th>\n",
       "      <th>NOTA_MT</th>\n",
       "      <th>TP_LINGUA</th>\n",
       "      <th>TP_STATUS_REDACAO</th>\n",
       "      <th>COMP1</th>\n",
       "      <th>COMP2</th>\n",
       "      <th>COMP3</th>\n",
       "      <th>COMP4</th>\n",
       "      <th>COMP5</th>\n",
       "      <th>NOTA_REDACAO</th>\n",
       "      <th>INTERNET</th>\n",
       "    </tr>\n",
       "  </thead>\n",
       "  <tbody>\n",
       "    <tr>\n",
       "      <th>17</th>\n",
       "      <td>1,90E+11</td>\n",
       "      <td>São Paulo</td>\n",
       "      <td>18</td>\n",
       "      <td>F</td>\n",
       "      <td>1</td>\n",
       "      <td>branca</td>\n",
       "      <td>1</td>\n",
       "      <td>2</td>\n",
       "      <td>privada</td>\n",
       "      <td>35132287.0</td>\n",
       "      <td>...</td>\n",
       "      <td>49.1</td>\n",
       "      <td>Inglês</td>\n",
       "      <td>1.0</td>\n",
       "      <td>160.0</td>\n",
       "      <td>140.0</td>\n",
       "      <td>140.0</td>\n",
       "      <td>160.0</td>\n",
       "      <td>160.0</td>\n",
       "      <td>760.0</td>\n",
       "      <td>Sim</td>\n",
       "    </tr>\n",
       "    <tr>\n",
       "      <th>10760</th>\n",
       "      <td>1,90E+11</td>\n",
       "      <td>São Paulo</td>\n",
       "      <td>17</td>\n",
       "      <td>M</td>\n",
       "      <td>1</td>\n",
       "      <td>parda</td>\n",
       "      <td>1</td>\n",
       "      <td>2</td>\n",
       "      <td>privada</td>\n",
       "      <td>35132287.0</td>\n",
       "      <td>...</td>\n",
       "      <td>930.5</td>\n",
       "      <td>Inglês</td>\n",
       "      <td>1.0</td>\n",
       "      <td>180.0</td>\n",
       "      <td>200.0</td>\n",
       "      <td>200.0</td>\n",
       "      <td>200.0</td>\n",
       "      <td>140.0</td>\n",
       "      <td>920.0</td>\n",
       "      <td>Sim</td>\n",
       "    </tr>\n",
       "    <tr>\n",
       "      <th>13315</th>\n",
       "      <td>1,90E+11</td>\n",
       "      <td>São Paulo</td>\n",
       "      <td>17</td>\n",
       "      <td>F</td>\n",
       "      <td>1</td>\n",
       "      <td>branca</td>\n",
       "      <td>1</td>\n",
       "      <td>2</td>\n",
       "      <td>privada</td>\n",
       "      <td>35132287.0</td>\n",
       "      <td>...</td>\n",
       "      <td>663.9</td>\n",
       "      <td>Inglês</td>\n",
       "      <td>1.0</td>\n",
       "      <td>160.0</td>\n",
       "      <td>140.0</td>\n",
       "      <td>160.0</td>\n",
       "      <td>200.0</td>\n",
       "      <td>120.0</td>\n",
       "      <td>780.0</td>\n",
       "      <td>Sim</td>\n",
       "    </tr>\n",
       "    <tr>\n",
       "      <th>20006</th>\n",
       "      <td>1,90E+11</td>\n",
       "      <td>São Paulo</td>\n",
       "      <td>17</td>\n",
       "      <td>F</td>\n",
       "      <td>1</td>\n",
       "      <td>branca</td>\n",
       "      <td>1</td>\n",
       "      <td>2</td>\n",
       "      <td>privada</td>\n",
       "      <td>35132287.0</td>\n",
       "      <td>...</td>\n",
       "      <td>771.9</td>\n",
       "      <td>Inglês</td>\n",
       "      <td>1.0</td>\n",
       "      <td>140.0</td>\n",
       "      <td>180.0</td>\n",
       "      <td>160.0</td>\n",
       "      <td>180.0</td>\n",
       "      <td>140.0</td>\n",
       "      <td>800.0</td>\n",
       "      <td>Sim</td>\n",
       "    </tr>\n",
       "    <tr>\n",
       "      <th>26697</th>\n",
       "      <td>1,90E+11</td>\n",
       "      <td>São Paulo</td>\n",
       "      <td>18</td>\n",
       "      <td>F</td>\n",
       "      <td>1</td>\n",
       "      <td>branca</td>\n",
       "      <td>1</td>\n",
       "      <td>2</td>\n",
       "      <td>privada</td>\n",
       "      <td>35132287.0</td>\n",
       "      <td>...</td>\n",
       "      <td>663.1</td>\n",
       "      <td>Inglês</td>\n",
       "      <td>1.0</td>\n",
       "      <td>160.0</td>\n",
       "      <td>200.0</td>\n",
       "      <td>200.0</td>\n",
       "      <td>200.0</td>\n",
       "      <td>200.0</td>\n",
       "      <td>960.0</td>\n",
       "      <td>Sim</td>\n",
       "    </tr>\n",
       "  </tbody>\n",
       "</table>\n",
       "<p>5 rows × 28 columns</p>\n",
       "</div>"
      ],
      "text/plain": [
       "      NU_INSCRICAO NO_MUNICIPIO_RESIDENCIA  IDADE SEXO  TP_ESTADO_CIVIL  \\\n",
       "17        1,90E+11               São Paulo     18    F                1   \n",
       "10760     1,90E+11               São Paulo     17    M                1   \n",
       "13315     1,90E+11               São Paulo     17    F                1   \n",
       "20006     1,90E+11               São Paulo     17    F                1   \n",
       "26697     1,90E+11               São Paulo     18    F                1   \n",
       "\n",
       "         RACA  TP_NACIONALIDADE  TP_ST_CONCLUSAO   ESCOLA   CO_ESCOLA  ...  \\\n",
       "17     branca                 1                2  privada  35132287.0  ...   \n",
       "10760   parda                 1                2  privada  35132287.0  ...   \n",
       "13315  branca                 1                2  privada  35132287.0  ...   \n",
       "20006  branca                 1                2  privada  35132287.0  ...   \n",
       "26697  branca                 1                2  privada  35132287.0  ...   \n",
       "\n",
       "      NOTA_MT  TP_LINGUA  TP_STATUS_REDACAO  COMP1  COMP2  COMP3  COMP4  \\\n",
       "17       49.1     Inglês                1.0  160.0  140.0  140.0  160.0   \n",
       "10760   930.5     Inglês                1.0  180.0  200.0  200.0  200.0   \n",
       "13315   663.9     Inglês                1.0  160.0  140.0  160.0  200.0   \n",
       "20006   771.9     Inglês                1.0  140.0  180.0  160.0  180.0   \n",
       "26697   663.1     Inglês                1.0  160.0  200.0  200.0  200.0   \n",
       "\n",
       "       COMP5  NOTA_REDACAO INTERNET  \n",
       "17     160.0         760.0      Sim  \n",
       "10760  140.0         920.0      Sim  \n",
       "13315  120.0         780.0      Sim  \n",
       "20006  140.0         800.0      Sim  \n",
       "26697  200.0         960.0      Sim  \n",
       "\n",
       "[5 rows x 28 columns]"
      ]
     },
     "execution_count": 26,
     "metadata": {},
     "output_type": "execute_result"
    }
   ],
   "source": [
    "colegiox.head()"
   ]
  },
  {
   "cell_type": "code",
   "execution_count": 27,
   "id": "5b7532e6",
   "metadata": {},
   "outputs": [
    {
     "data": {
      "text/plain": [
       "764.4887"
      ]
     },
     "execution_count": 27,
     "metadata": {},
     "output_type": "execute_result"
    }
   ],
   "source": [
    "116.1987 + 1.2831*140 + 1.7298*160 + 1.1993*160"
   ]
  },
  {
   "cell_type": "code",
   "execution_count": 31,
   "id": "8bd5ef3d",
   "metadata": {},
   "outputs": [],
   "source": [
    "ei = 760 - 764.4887"
   ]
  },
  {
   "cell_type": "code",
   "execution_count": 32,
   "id": "b302f138",
   "metadata": {},
   "outputs": [
    {
     "data": {
      "text/plain": [
       "-4.488699999999994"
      ]
     },
     "execution_count": 32,
     "metadata": {},
     "output_type": "execute_result"
    }
   ],
   "source": [
    "ei"
   ]
  },
  {
   "cell_type": "code",
   "execution_count": 30,
   "id": "d3ac6917",
   "metadata": {},
   "outputs": [
    {
     "data": {
      "text/plain": [
       "17        -4.498054\n",
       "10760     33.309358\n",
       "13315     -5.718021\n",
       "20006    -26.432059\n",
       "26697      1.349594\n",
       "            ...    \n",
       "426829    35.760528\n",
       "428241   -17.683137\n",
       "443242   -17.497499\n",
       "462446   -56.783460\n",
       "483420    34.529325\n",
       "Length: 130, dtype: float64"
      ]
     },
     "execution_count": 30,
     "metadata": {},
     "output_type": "execute_result"
    }
   ],
   "source": [
    "residuos = modelo1.resid\n",
    "residuos"
   ]
  },
  {
   "cell_type": "code",
   "execution_count": 33,
   "id": "070dfac5",
   "metadata": {},
   "outputs": [
    {
     "name": "stderr",
     "output_type": "stream",
     "text": [
      "C:\\Users\\marco\\AppData\\Local\\Temp\\ipykernel_11888\\1093953978.py:1: SettingWithCopyWarning: \n",
      "A value is trying to be set on a copy of a slice from a DataFrame.\n",
      "Try using .loc[row_indexer,col_indexer] = value instead\n",
      "\n",
      "See the caveats in the documentation: https://pandas.pydata.org/pandas-docs/stable/user_guide/indexing.html#returning-a-view-versus-a-copy\n",
      "  colegiox['residuos'] = residuos\n"
     ]
    },
    {
     "data": {
      "text/html": [
       "<div>\n",
       "<style scoped>\n",
       "    .dataframe tbody tr th:only-of-type {\n",
       "        vertical-align: middle;\n",
       "    }\n",
       "\n",
       "    .dataframe tbody tr th {\n",
       "        vertical-align: top;\n",
       "    }\n",
       "\n",
       "    .dataframe thead th {\n",
       "        text-align: right;\n",
       "    }\n",
       "</style>\n",
       "<table border=\"1\" class=\"dataframe\">\n",
       "  <thead>\n",
       "    <tr style=\"text-align: right;\">\n",
       "      <th></th>\n",
       "      <th>NU_INSCRICAO</th>\n",
       "      <th>NO_MUNICIPIO_RESIDENCIA</th>\n",
       "      <th>IDADE</th>\n",
       "      <th>SEXO</th>\n",
       "      <th>TP_ESTADO_CIVIL</th>\n",
       "      <th>RACA</th>\n",
       "      <th>TP_NACIONALIDADE</th>\n",
       "      <th>TP_ST_CONCLUSAO</th>\n",
       "      <th>ESCOLA</th>\n",
       "      <th>CO_ESCOLA</th>\n",
       "      <th>...</th>\n",
       "      <th>TP_LINGUA</th>\n",
       "      <th>TP_STATUS_REDACAO</th>\n",
       "      <th>COMP1</th>\n",
       "      <th>COMP2</th>\n",
       "      <th>COMP3</th>\n",
       "      <th>COMP4</th>\n",
       "      <th>COMP5</th>\n",
       "      <th>NOTA_REDACAO</th>\n",
       "      <th>INTERNET</th>\n",
       "      <th>residuos</th>\n",
       "    </tr>\n",
       "  </thead>\n",
       "  <tbody>\n",
       "    <tr>\n",
       "      <th>17</th>\n",
       "      <td>1,90E+11</td>\n",
       "      <td>São Paulo</td>\n",
       "      <td>18</td>\n",
       "      <td>F</td>\n",
       "      <td>1</td>\n",
       "      <td>branca</td>\n",
       "      <td>1</td>\n",
       "      <td>2</td>\n",
       "      <td>privada</td>\n",
       "      <td>35132287.0</td>\n",
       "      <td>...</td>\n",
       "      <td>Inglês</td>\n",
       "      <td>1.0</td>\n",
       "      <td>160.0</td>\n",
       "      <td>140.0</td>\n",
       "      <td>140.0</td>\n",
       "      <td>160.0</td>\n",
       "      <td>160.0</td>\n",
       "      <td>760.0</td>\n",
       "      <td>Sim</td>\n",
       "      <td>-4.498054</td>\n",
       "    </tr>\n",
       "    <tr>\n",
       "      <th>10760</th>\n",
       "      <td>1,90E+11</td>\n",
       "      <td>São Paulo</td>\n",
       "      <td>17</td>\n",
       "      <td>M</td>\n",
       "      <td>1</td>\n",
       "      <td>parda</td>\n",
       "      <td>1</td>\n",
       "      <td>2</td>\n",
       "      <td>privada</td>\n",
       "      <td>35132287.0</td>\n",
       "      <td>...</td>\n",
       "      <td>Inglês</td>\n",
       "      <td>1.0</td>\n",
       "      <td>180.0</td>\n",
       "      <td>200.0</td>\n",
       "      <td>200.0</td>\n",
       "      <td>200.0</td>\n",
       "      <td>140.0</td>\n",
       "      <td>920.0</td>\n",
       "      <td>Sim</td>\n",
       "      <td>33.309358</td>\n",
       "    </tr>\n",
       "    <tr>\n",
       "      <th>13315</th>\n",
       "      <td>1,90E+11</td>\n",
       "      <td>São Paulo</td>\n",
       "      <td>17</td>\n",
       "      <td>F</td>\n",
       "      <td>1</td>\n",
       "      <td>branca</td>\n",
       "      <td>1</td>\n",
       "      <td>2</td>\n",
       "      <td>privada</td>\n",
       "      <td>35132287.0</td>\n",
       "      <td>...</td>\n",
       "      <td>Inglês</td>\n",
       "      <td>1.0</td>\n",
       "      <td>160.0</td>\n",
       "      <td>140.0</td>\n",
       "      <td>160.0</td>\n",
       "      <td>200.0</td>\n",
       "      <td>120.0</td>\n",
       "      <td>780.0</td>\n",
       "      <td>Sim</td>\n",
       "      <td>-5.718021</td>\n",
       "    </tr>\n",
       "    <tr>\n",
       "      <th>20006</th>\n",
       "      <td>1,90E+11</td>\n",
       "      <td>São Paulo</td>\n",
       "      <td>17</td>\n",
       "      <td>F</td>\n",
       "      <td>1</td>\n",
       "      <td>branca</td>\n",
       "      <td>1</td>\n",
       "      <td>2</td>\n",
       "      <td>privada</td>\n",
       "      <td>35132287.0</td>\n",
       "      <td>...</td>\n",
       "      <td>Inglês</td>\n",
       "      <td>1.0</td>\n",
       "      <td>140.0</td>\n",
       "      <td>180.0</td>\n",
       "      <td>160.0</td>\n",
       "      <td>180.0</td>\n",
       "      <td>140.0</td>\n",
       "      <td>800.0</td>\n",
       "      <td>Sim</td>\n",
       "      <td>-26.432059</td>\n",
       "    </tr>\n",
       "    <tr>\n",
       "      <th>26697</th>\n",
       "      <td>1,90E+11</td>\n",
       "      <td>São Paulo</td>\n",
       "      <td>18</td>\n",
       "      <td>F</td>\n",
       "      <td>1</td>\n",
       "      <td>branca</td>\n",
       "      <td>1</td>\n",
       "      <td>2</td>\n",
       "      <td>privada</td>\n",
       "      <td>35132287.0</td>\n",
       "      <td>...</td>\n",
       "      <td>Inglês</td>\n",
       "      <td>1.0</td>\n",
       "      <td>160.0</td>\n",
       "      <td>200.0</td>\n",
       "      <td>200.0</td>\n",
       "      <td>200.0</td>\n",
       "      <td>200.0</td>\n",
       "      <td>960.0</td>\n",
       "      <td>Sim</td>\n",
       "      <td>1.349594</td>\n",
       "    </tr>\n",
       "  </tbody>\n",
       "</table>\n",
       "<p>5 rows × 29 columns</p>\n",
       "</div>"
      ],
      "text/plain": [
       "      NU_INSCRICAO NO_MUNICIPIO_RESIDENCIA  IDADE SEXO  TP_ESTADO_CIVIL  \\\n",
       "17        1,90E+11               São Paulo     18    F                1   \n",
       "10760     1,90E+11               São Paulo     17    M                1   \n",
       "13315     1,90E+11               São Paulo     17    F                1   \n",
       "20006     1,90E+11               São Paulo     17    F                1   \n",
       "26697     1,90E+11               São Paulo     18    F                1   \n",
       "\n",
       "         RACA  TP_NACIONALIDADE  TP_ST_CONCLUSAO   ESCOLA   CO_ESCOLA  ...  \\\n",
       "17     branca                 1                2  privada  35132287.0  ...   \n",
       "10760   parda                 1                2  privada  35132287.0  ...   \n",
       "13315  branca                 1                2  privada  35132287.0  ...   \n",
       "20006  branca                 1                2  privada  35132287.0  ...   \n",
       "26697  branca                 1                2  privada  35132287.0  ...   \n",
       "\n",
       "      TP_LINGUA  TP_STATUS_REDACAO  COMP1  COMP2  COMP3  COMP4  COMP5  \\\n",
       "17       Inglês                1.0  160.0  140.0  140.0  160.0  160.0   \n",
       "10760    Inglês                1.0  180.0  200.0  200.0  200.0  140.0   \n",
       "13315    Inglês                1.0  160.0  140.0  160.0  200.0  120.0   \n",
       "20006    Inglês                1.0  140.0  180.0  160.0  180.0  140.0   \n",
       "26697    Inglês                1.0  160.0  200.0  200.0  200.0  200.0   \n",
       "\n",
       "       NOTA_REDACAO  INTERNET   residuos  \n",
       "17            760.0       Sim  -4.498054  \n",
       "10760         920.0       Sim  33.309358  \n",
       "13315         780.0       Sim  -5.718021  \n",
       "20006         800.0       Sim -26.432059  \n",
       "26697         960.0       Sim   1.349594  \n",
       "\n",
       "[5 rows x 29 columns]"
      ]
     },
     "execution_count": 33,
     "metadata": {},
     "output_type": "execute_result"
    }
   ],
   "source": [
    "colegiox['residuos'] = residuos\n",
    "colegiox.head()"
   ]
  },
  {
   "cell_type": "markdown",
   "id": "69d3e936",
   "metadata": {},
   "source": [
    "# Premissa 2 - Normalidade dos resíduos "
   ]
  },
  {
   "cell_type": "markdown",
   "id": "37e255d5",
   "metadata": {},
   "source": [
    "Shapiro - Wilk\n",
    "\n",
    "Ho = os residuos tem distribuição normal: p > 0.05\n",
    "\n",
    "Ha = os residuos não tem distribuição normal: p <= 0.05"
   ]
  },
  {
   "cell_type": "code",
   "execution_count": 34,
   "id": "373398df",
   "metadata": {},
   "outputs": [],
   "source": [
    "estatistica, p = stats.shapiro(residuos)"
   ]
  },
  {
   "cell_type": "code",
   "execution_count": 35,
   "id": "5fbac130",
   "metadata": {},
   "outputs": [
    {
     "data": {
      "text/plain": [
       "0.15436169505119324"
      ]
     },
     "execution_count": 35,
     "metadata": {},
     "output_type": "execute_result"
    }
   ],
   "source": [
    "p"
   ]
  },
  {
   "cell_type": "code",
   "execution_count": 36,
   "id": "d37b6ccb",
   "metadata": {},
   "outputs": [
    {
     "name": "stdout",
     "output_type": "stream",
     "text": [
      "p-valor: 0.15436169505119324\n"
     ]
    }
   ],
   "source": [
    "print('p-valor: {}'.format(p))"
   ]
  },
  {
   "cell_type": "code",
   "execution_count": 39,
   "id": "4c78a327",
   "metadata": {},
   "outputs": [
    {
     "data": {
      "image/png": "[encoded data removed]",
      "text/plain": [
       "<Figure size 432x288 with 1 Axes>"
      ]
     },
     "metadata": {
      "needs_background": "light"
     },
     "output_type": "display_data"
    }
   ],
   "source": [
    "stats.probplot(residuos, dist='norm', plot=plt)\n",
    "plt.title('Normal Q-Q plot - resíduos')\n",
    "plt.show()"
   ]
  },
  {
   "cell_type": "markdown",
   "id": "b5a39a4c",
   "metadata": {},
   "source": [
    "# Premissa 3 - Homocedasticidade"
   ]
  },
  {
   "cell_type": "code",
   "execution_count": 40,
   "id": "9bf0a48e",
   "metadata": {},
   "outputs": [],
   "source": [
    "# resíduos com variação constante"
   ]
  },
  {
   "cell_type": "code",
   "execution_count": 43,
   "id": "40d94c0c",
   "metadata": {},
   "outputs": [
    {
     "data": {
      "text/plain": [
       "Text(0.5, 0, 'Valores Previstos')"
      ]
     },
     "execution_count": 43,
     "metadata": {},
     "output_type": "execute_result"
    },
    {
     "data": {
      "image/png": "[encoded data removed]",
      "text/plain": [
       "<Figure size 432x288 with 1 Axes>"
      ]
     },
     "metadata": {
      "needs_background": "light"
     },
     "output_type": "display_data"
    }
   ],
   "source": [
    "plt.scatter(y=residuos, x=modelo1.predict(), color='red')\n",
    "plt.hlines(y=0, xmin=550, xmax=1000, color='orange')\n",
    "plt.ylabel('Resíduos')\n",
    "plt.xlabel('Valores Previstos')"
   ]
  },
  {
   "cell_type": "markdown",
   "id": "b84fc1fe",
   "metadata": {},
   "source": [
    "Teste Breusch-Pagan (homocedasticidade/heterocedasticidade)\n",
    "\n",
    "Ho = existe homocedasticidade: p > 0.05\n",
    "\n",
    "Ha = não existe homocedasticidade: p <= 0.05"
   ]
  },
  {
   "cell_type": "code",
   "execution_count": 46,
   "id": "063500b6",
   "metadata": {},
   "outputs": [],
   "source": [
    "from statsmodels.compat import lzip"
   ]
  },
  {
   "cell_type": "code",
   "execution_count": 47,
   "id": "368aa47d",
   "metadata": {},
   "outputs": [],
   "source": [
    "estatistica, p, f, fp = sms.het_breuschpagan(modelo1.resid, modelo1.model.exog)"
   ]
  },
  {
   "cell_type": "code",
   "execution_count": 49,
   "id": "dfc9636c",
   "metadata": {},
   "outputs": [
    {
     "name": "stdout",
     "output_type": "stream",
     "text": [
      "p-valor: 0.047271689874475095\n"
     ]
    }
   ],
   "source": [
    "print('p-valor: {}'.format(p))"
   ]
  },
  {
   "cell_type": "markdown",
   "id": "7da1f70c",
   "metadata": {},
   "source": [
    "# Premissa 4 - Outliers nos resíduos"
   ]
  },
  {
   "cell_type": "markdown",
   "id": "e3377c8b",
   "metadata": {},
   "source": [
    "Valores de resíduos que estão fora do intervalo (-3,3)"
   ]
  },
  {
   "cell_type": "code",
   "execution_count": 50,
   "id": "03732165",
   "metadata": {},
   "outputs": [],
   "source": [
    "outliers = modelo1.outlier_test()"
   ]
  },
  {
   "cell_type": "code",
   "execution_count": 51,
   "id": "82132f7a",
   "metadata": {},
   "outputs": [
    {
     "data": {
      "text/plain": [
       "student_resid    2.466219\n",
       "unadj_p          0.957876\n",
       "bonf(p)          1.000000\n",
       "dtype: float64"
      ]
     },
     "execution_count": 51,
     "metadata": {},
     "output_type": "execute_result"
    }
   ],
   "source": [
    "outliers.max()"
   ]
  },
  {
   "cell_type": "code",
   "execution_count": 52,
   "id": "b5a9e5fb",
   "metadata": {},
   "outputs": [
    {
     "data": {
      "text/plain": [
       "student_resid   -3.260297\n",
       "unadj_p          0.001434\n",
       "bonf(p)          0.186452\n",
       "dtype: float64"
      ]
     },
     "execution_count": 52,
     "metadata": {},
     "output_type": "execute_result"
    }
   ],
   "source": [
    "outliers.min()"
   ]
  },
  {
   "cell_type": "markdown",
   "id": "1d49d94b",
   "metadata": {},
   "source": [
    "# Premissa 5 - Multicolinearidade"
   ]
  },
  {
   "cell_type": "markdown",
   "id": "52585698",
   "metadata": {},
   "source": [
    "- Somente as variáveis independentes\n",
    "- Considerar como problema de multicolinearidade quando você encontrar r > 0.9"
   ]
  },
  {
   "cell_type": "code",
   "execution_count": 53,
   "id": "e1721b6d",
   "metadata": {},
   "outputs": [],
   "source": [
    "variaveis = colegiox[['COMP2', 'COMP4', 'COMP5']]"
   ]
  },
  {
   "cell_type": "code",
   "execution_count": 54,
   "id": "0023e3dc",
   "metadata": {},
   "outputs": [
    {
     "data": {
      "text/html": [
       "<div>\n",
       "<style scoped>\n",
       "    .dataframe tbody tr th:only-of-type {\n",
       "        vertical-align: middle;\n",
       "    }\n",
       "\n",
       "    .dataframe tbody tr th {\n",
       "        vertical-align: top;\n",
       "    }\n",
       "\n",
       "    .dataframe thead th {\n",
       "        text-align: right;\n",
       "    }\n",
       "</style>\n",
       "<table border=\"1\" class=\"dataframe\">\n",
       "  <thead>\n",
       "    <tr style=\"text-align: right;\">\n",
       "      <th></th>\n",
       "      <th>COMP2</th>\n",
       "      <th>COMP4</th>\n",
       "      <th>COMP5</th>\n",
       "    </tr>\n",
       "  </thead>\n",
       "  <tbody>\n",
       "    <tr>\n",
       "      <th>17</th>\n",
       "      <td>140.0</td>\n",
       "      <td>160.0</td>\n",
       "      <td>160.0</td>\n",
       "    </tr>\n",
       "    <tr>\n",
       "      <th>10760</th>\n",
       "      <td>200.0</td>\n",
       "      <td>200.0</td>\n",
       "      <td>140.0</td>\n",
       "    </tr>\n",
       "    <tr>\n",
       "      <th>13315</th>\n",
       "      <td>140.0</td>\n",
       "      <td>200.0</td>\n",
       "      <td>120.0</td>\n",
       "    </tr>\n",
       "    <tr>\n",
       "      <th>20006</th>\n",
       "      <td>180.0</td>\n",
       "      <td>180.0</td>\n",
       "      <td>140.0</td>\n",
       "    </tr>\n",
       "    <tr>\n",
       "      <th>26697</th>\n",
       "      <td>200.0</td>\n",
       "      <td>200.0</td>\n",
       "      <td>200.0</td>\n",
       "    </tr>\n",
       "  </tbody>\n",
       "</table>\n",
       "</div>"
      ],
      "text/plain": [
       "       COMP2  COMP4  COMP5\n",
       "17     140.0  160.0  160.0\n",
       "10760  200.0  200.0  140.0\n",
       "13315  140.0  200.0  120.0\n",
       "20006  180.0  180.0  140.0\n",
       "26697  200.0  200.0  200.0"
      ]
     },
     "execution_count": 54,
     "metadata": {},
     "output_type": "execute_result"
    }
   ],
   "source": [
    "variaveis.head()"
   ]
  },
  {
   "cell_type": "code",
   "execution_count": 55,
   "id": "35fdf2cd",
   "metadata": {},
   "outputs": [
    {
     "data": {
      "text/html": [
       "<div>\n",
       "<style scoped>\n",
       "    .dataframe tbody tr th:only-of-type {\n",
       "        vertical-align: middle;\n",
       "    }\n",
       "\n",
       "    .dataframe tbody tr th {\n",
       "        vertical-align: top;\n",
       "    }\n",
       "\n",
       "    .dataframe thead th {\n",
       "        text-align: right;\n",
       "    }\n",
       "</style>\n",
       "<table border=\"1\" class=\"dataframe\">\n",
       "  <thead>\n",
       "    <tr style=\"text-align: right;\">\n",
       "      <th></th>\n",
       "      <th>COMP2</th>\n",
       "      <th>COMP4</th>\n",
       "      <th>COMP5</th>\n",
       "    </tr>\n",
       "  </thead>\n",
       "  <tbody>\n",
       "    <tr>\n",
       "      <th>COMP2</th>\n",
       "      <td>1.000000</td>\n",
       "      <td>0.375906</td>\n",
       "      <td>0.298434</td>\n",
       "    </tr>\n",
       "    <tr>\n",
       "      <th>COMP4</th>\n",
       "      <td>0.375906</td>\n",
       "      <td>1.000000</td>\n",
       "      <td>0.428872</td>\n",
       "    </tr>\n",
       "    <tr>\n",
       "      <th>COMP5</th>\n",
       "      <td>0.298434</td>\n",
       "      <td>0.428872</td>\n",
       "      <td>1.000000</td>\n",
       "    </tr>\n",
       "  </tbody>\n",
       "</table>\n",
       "</div>"
      ],
      "text/plain": [
       "          COMP2     COMP4     COMP5\n",
       "COMP2  1.000000  0.375906  0.298434\n",
       "COMP4  0.375906  1.000000  0.428872\n",
       "COMP5  0.298434  0.428872  1.000000"
      ]
     },
     "execution_count": 55,
     "metadata": {},
     "output_type": "execute_result"
    }
   ],
   "source": [
    "correlacoes = variaveis.corr()\n",
    "correlacoes"
   ]
  },
  {
   "cell_type": "markdown",
   "id": "0492d031",
   "metadata": {},
   "source": [
    "Fator de Inflação de Variancia - VIF (baseado no coeficiente de determinação)\n",
    "- Esse valor deve ser menor 5"
   ]
  },
  {
   "cell_type": "code",
   "execution_count": 57,
   "id": "48cff092",
   "metadata": {},
   "outputs": [],
   "source": [
    "from statsmodels.stats.outliers_influence import variance_inflation_factor\n",
    "from statsmodels.tools.tools import add_constant"
   ]
  },
  {
   "cell_type": "code",
   "execution_count": 58,
   "id": "faedeb73",
   "metadata": {},
   "outputs": [
    {
     "data": {
      "text/plain": [
       "const    72.466982\n",
       "COMP2     1.196714\n",
       "COMP4     1.335832\n",
       "COMP5     1.259221\n",
       "dtype: float64"
      ]
     },
     "execution_count": 58,
     "metadata": {},
     "output_type": "execute_result"
    }
   ],
   "source": [
    "vif = add_constant(variaveis) # função pra calcular o vif espera uma constante\n",
    "pd.Series([variance_inflation_factor(vif.values, j) for j in range(vif.shape[1])], index=vif.columns)"
   ]
  },
  {
   "cell_type": "markdown",
   "id": "afd44bee",
   "metadata": {},
   "source": [
    "# Calculando previsão"
   ]
  },
  {
   "cell_type": "code",
   "execution_count": 59,
   "id": "4cc0706a",
   "metadata": {},
   "outputs": [
    {
     "name": "stderr",
     "output_type": "stream",
     "text": [
      "C:\\Users\\marco\\AppData\\Local\\Temp\\ipykernel_11888\\2867230612.py:2: SettingWithCopyWarning: \n",
      "A value is trying to be set on a copy of a slice from a DataFrame.\n",
      "Try using .loc[row_indexer,col_indexer] = value instead\n",
      "\n",
      "See the caveats in the documentation: https://pandas.pydata.org/pandas-docs/stable/user_guide/indexing.html#returning-a-view-versus-a-copy\n",
      "  colegiox['previsao'] = modelo1.fittedvalues\n"
     ]
    }
   ],
   "source": [
    "# Criar uma coluna de previsão\n",
    "colegiox['previsao'] = modelo1.fittedvalues"
   ]
  },
  {
   "cell_type": "code",
   "execution_count": 60,
   "id": "86877908",
   "metadata": {},
   "outputs": [
    {
     "data": {
      "text/html": [
       "<div>\n",
       "<style scoped>\n",
       "    .dataframe tbody tr th:only-of-type {\n",
       "        vertical-align: middle;\n",
       "    }\n",
       "\n",
       "    .dataframe tbody tr th {\n",
       "        vertical-align: top;\n",
       "    }\n",
       "\n",
       "    .dataframe thead th {\n",
       "        text-align: right;\n",
       "    }\n",
       "</style>\n",
       "<table border=\"1\" class=\"dataframe\">\n",
       "  <thead>\n",
       "    <tr style=\"text-align: right;\">\n",
       "      <th></th>\n",
       "      <th>NU_INSCRICAO</th>\n",
       "      <th>NO_MUNICIPIO_RESIDENCIA</th>\n",
       "      <th>IDADE</th>\n",
       "      <th>SEXO</th>\n",
       "      <th>TP_ESTADO_CIVIL</th>\n",
       "      <th>RACA</th>\n",
       "      <th>TP_NACIONALIDADE</th>\n",
       "      <th>TP_ST_CONCLUSAO</th>\n",
       "      <th>ESCOLA</th>\n",
       "      <th>CO_ESCOLA</th>\n",
       "      <th>...</th>\n",
       "      <th>TP_STATUS_REDACAO</th>\n",
       "      <th>COMP1</th>\n",
       "      <th>COMP2</th>\n",
       "      <th>COMP3</th>\n",
       "      <th>COMP4</th>\n",
       "      <th>COMP5</th>\n",
       "      <th>NOTA_REDACAO</th>\n",
       "      <th>INTERNET</th>\n",
       "      <th>residuos</th>\n",
       "      <th>previsao</th>\n",
       "    </tr>\n",
       "  </thead>\n",
       "  <tbody>\n",
       "    <tr>\n",
       "      <th>17</th>\n",
       "      <td>1,90E+11</td>\n",
       "      <td>São Paulo</td>\n",
       "      <td>18</td>\n",
       "      <td>F</td>\n",
       "      <td>1</td>\n",
       "      <td>branca</td>\n",
       "      <td>1</td>\n",
       "      <td>2</td>\n",
       "      <td>privada</td>\n",
       "      <td>35132287.0</td>\n",
       "      <td>...</td>\n",
       "      <td>1.0</td>\n",
       "      <td>160.0</td>\n",
       "      <td>140.0</td>\n",
       "      <td>140.0</td>\n",
       "      <td>160.0</td>\n",
       "      <td>160.0</td>\n",
       "      <td>760.0</td>\n",
       "      <td>Sim</td>\n",
       "      <td>-4.498054</td>\n",
       "      <td>764.498054</td>\n",
       "    </tr>\n",
       "    <tr>\n",
       "      <th>10760</th>\n",
       "      <td>1,90E+11</td>\n",
       "      <td>São Paulo</td>\n",
       "      <td>17</td>\n",
       "      <td>M</td>\n",
       "      <td>1</td>\n",
       "      <td>parda</td>\n",
       "      <td>1</td>\n",
       "      <td>2</td>\n",
       "      <td>privada</td>\n",
       "      <td>35132287.0</td>\n",
       "      <td>...</td>\n",
       "      <td>1.0</td>\n",
       "      <td>180.0</td>\n",
       "      <td>200.0</td>\n",
       "      <td>200.0</td>\n",
       "      <td>200.0</td>\n",
       "      <td>140.0</td>\n",
       "      <td>920.0</td>\n",
       "      <td>Sim</td>\n",
       "      <td>33.309358</td>\n",
       "      <td>886.690642</td>\n",
       "    </tr>\n",
       "    <tr>\n",
       "      <th>13315</th>\n",
       "      <td>1,90E+11</td>\n",
       "      <td>São Paulo</td>\n",
       "      <td>17</td>\n",
       "      <td>F</td>\n",
       "      <td>1</td>\n",
       "      <td>branca</td>\n",
       "      <td>1</td>\n",
       "      <td>2</td>\n",
       "      <td>privada</td>\n",
       "      <td>35132287.0</td>\n",
       "      <td>...</td>\n",
       "      <td>1.0</td>\n",
       "      <td>160.0</td>\n",
       "      <td>140.0</td>\n",
       "      <td>160.0</td>\n",
       "      <td>200.0</td>\n",
       "      <td>120.0</td>\n",
       "      <td>780.0</td>\n",
       "      <td>Sim</td>\n",
       "      <td>-5.718021</td>\n",
       "      <td>785.718021</td>\n",
       "    </tr>\n",
       "    <tr>\n",
       "      <th>20006</th>\n",
       "      <td>1,90E+11</td>\n",
       "      <td>São Paulo</td>\n",
       "      <td>17</td>\n",
       "      <td>F</td>\n",
       "      <td>1</td>\n",
       "      <td>branca</td>\n",
       "      <td>1</td>\n",
       "      <td>2</td>\n",
       "      <td>privada</td>\n",
       "      <td>35132287.0</td>\n",
       "      <td>...</td>\n",
       "      <td>1.0</td>\n",
       "      <td>140.0</td>\n",
       "      <td>180.0</td>\n",
       "      <td>160.0</td>\n",
       "      <td>180.0</td>\n",
       "      <td>140.0</td>\n",
       "      <td>800.0</td>\n",
       "      <td>Sim</td>\n",
       "      <td>-26.432059</td>\n",
       "      <td>826.432059</td>\n",
       "    </tr>\n",
       "    <tr>\n",
       "      <th>26697</th>\n",
       "      <td>1,90E+11</td>\n",
       "      <td>São Paulo</td>\n",
       "      <td>18</td>\n",
       "      <td>F</td>\n",
       "      <td>1</td>\n",
       "      <td>branca</td>\n",
       "      <td>1</td>\n",
       "      <td>2</td>\n",
       "      <td>privada</td>\n",
       "      <td>35132287.0</td>\n",
       "      <td>...</td>\n",
       "      <td>1.0</td>\n",
       "      <td>160.0</td>\n",
       "      <td>200.0</td>\n",
       "      <td>200.0</td>\n",
       "      <td>200.0</td>\n",
       "      <td>200.0</td>\n",
       "      <td>960.0</td>\n",
       "      <td>Sim</td>\n",
       "      <td>1.349594</td>\n",
       "      <td>958.650406</td>\n",
       "    </tr>\n",
       "    <tr>\n",
       "      <th>...</th>\n",
       "      <td>...</td>\n",
       "      <td>...</td>\n",
       "      <td>...</td>\n",
       "      <td>...</td>\n",
       "      <td>...</td>\n",
       "      <td>...</td>\n",
       "      <td>...</td>\n",
       "      <td>...</td>\n",
       "      <td>...</td>\n",
       "      <td>...</td>\n",
       "      <td>...</td>\n",
       "      <td>...</td>\n",
       "      <td>...</td>\n",
       "      <td>...</td>\n",
       "      <td>...</td>\n",
       "      <td>...</td>\n",
       "      <td>...</td>\n",
       "      <td>...</td>\n",
       "      <td>...</td>\n",
       "      <td>...</td>\n",
       "      <td>...</td>\n",
       "    </tr>\n",
       "    <tr>\n",
       "      <th>426829</th>\n",
       "      <td>1,90E+11</td>\n",
       "      <td>São Paulo</td>\n",
       "      <td>17</td>\n",
       "      <td>F</td>\n",
       "      <td>1</td>\n",
       "      <td>branca</td>\n",
       "      <td>1</td>\n",
       "      <td>2</td>\n",
       "      <td>privada</td>\n",
       "      <td>35132287.0</td>\n",
       "      <td>...</td>\n",
       "      <td>1.0</td>\n",
       "      <td>160.0</td>\n",
       "      <td>120.0</td>\n",
       "      <td>160.0</td>\n",
       "      <td>140.0</td>\n",
       "      <td>160.0</td>\n",
       "      <td>740.0</td>\n",
       "      <td>Sim</td>\n",
       "      <td>35.760528</td>\n",
       "      <td>704.239472</td>\n",
       "    </tr>\n",
       "    <tr>\n",
       "      <th>428241</th>\n",
       "      <td>1,90E+11</td>\n",
       "      <td>São Paulo</td>\n",
       "      <td>17</td>\n",
       "      <td>M</td>\n",
       "      <td>1</td>\n",
       "      <td>branca</td>\n",
       "      <td>1</td>\n",
       "      <td>2</td>\n",
       "      <td>privada</td>\n",
       "      <td>35132287.0</td>\n",
       "      <td>...</td>\n",
       "      <td>1.0</td>\n",
       "      <td>120.0</td>\n",
       "      <td>120.0</td>\n",
       "      <td>120.0</td>\n",
       "      <td>120.0</td>\n",
       "      <td>100.0</td>\n",
       "      <td>580.0</td>\n",
       "      <td>Sim</td>\n",
       "      <td>-17.683137</td>\n",
       "      <td>597.683137</td>\n",
       "    </tr>\n",
       "    <tr>\n",
       "      <th>443242</th>\n",
       "      <td>1,90E+11</td>\n",
       "      <td>São Paulo</td>\n",
       "      <td>17</td>\n",
       "      <td>F</td>\n",
       "      <td>1</td>\n",
       "      <td>amarela</td>\n",
       "      <td>1</td>\n",
       "      <td>2</td>\n",
       "      <td>privada</td>\n",
       "      <td>35132287.0</td>\n",
       "      <td>...</td>\n",
       "      <td>1.0</td>\n",
       "      <td>140.0</td>\n",
       "      <td>200.0</td>\n",
       "      <td>160.0</td>\n",
       "      <td>160.0</td>\n",
       "      <td>140.0</td>\n",
       "      <td>800.0</td>\n",
       "      <td>Sim</td>\n",
       "      <td>-17.497499</td>\n",
       "      <td>817.497499</td>\n",
       "    </tr>\n",
       "    <tr>\n",
       "      <th>462446</th>\n",
       "      <td>1,90E+11</td>\n",
       "      <td>São Paulo</td>\n",
       "      <td>18</td>\n",
       "      <td>M</td>\n",
       "      <td>1</td>\n",
       "      <td>branca</td>\n",
       "      <td>1</td>\n",
       "      <td>2</td>\n",
       "      <td>privada</td>\n",
       "      <td>35132287.0</td>\n",
       "      <td>...</td>\n",
       "      <td>1.0</td>\n",
       "      <td>120.0</td>\n",
       "      <td>160.0</td>\n",
       "      <td>140.0</td>\n",
       "      <td>180.0</td>\n",
       "      <td>120.0</td>\n",
       "      <td>720.0</td>\n",
       "      <td>Sim</td>\n",
       "      <td>-56.783460</td>\n",
       "      <td>776.783460</td>\n",
       "    </tr>\n",
       "    <tr>\n",
       "      <th>483420</th>\n",
       "      <td>1,90E+11</td>\n",
       "      <td>São Paulo</td>\n",
       "      <td>18</td>\n",
       "      <td>M</td>\n",
       "      <td>1</td>\n",
       "      <td>parda</td>\n",
       "      <td>1</td>\n",
       "      <td>2</td>\n",
       "      <td>privada</td>\n",
       "      <td>35132287.0</td>\n",
       "      <td>...</td>\n",
       "      <td>1.0</td>\n",
       "      <td>180.0</td>\n",
       "      <td>200.0</td>\n",
       "      <td>180.0</td>\n",
       "      <td>160.0</td>\n",
       "      <td>180.0</td>\n",
       "      <td>900.0</td>\n",
       "      <td>Sim</td>\n",
       "      <td>34.529325</td>\n",
       "      <td>865.470675</td>\n",
       "    </tr>\n",
       "  </tbody>\n",
       "</table>\n",
       "<p>130 rows × 30 columns</p>\n",
       "</div>"
      ],
      "text/plain": [
       "       NU_INSCRICAO NO_MUNICIPIO_RESIDENCIA  IDADE SEXO  TP_ESTADO_CIVIL  \\\n",
       "17         1,90E+11               São Paulo     18    F                1   \n",
       "10760      1,90E+11               São Paulo     17    M                1   \n",
       "13315      1,90E+11               São Paulo     17    F                1   \n",
       "20006      1,90E+11               São Paulo     17    F                1   \n",
       "26697      1,90E+11               São Paulo     18    F                1   \n",
       "...             ...                     ...    ...  ...              ...   \n",
       "426829     1,90E+11               São Paulo     17    F                1   \n",
       "428241     1,90E+11               São Paulo     17    M                1   \n",
       "443242     1,90E+11               São Paulo     17    F                1   \n",
       "462446     1,90E+11               São Paulo     18    M                1   \n",
       "483420     1,90E+11               São Paulo     18    M                1   \n",
       "\n",
       "           RACA  TP_NACIONALIDADE  TP_ST_CONCLUSAO   ESCOLA   CO_ESCOLA  ...  \\\n",
       "17       branca                 1                2  privada  35132287.0  ...   \n",
       "10760     parda                 1                2  privada  35132287.0  ...   \n",
       "13315    branca                 1                2  privada  35132287.0  ...   \n",
       "20006    branca                 1                2  privada  35132287.0  ...   \n",
       "26697    branca                 1                2  privada  35132287.0  ...   \n",
       "...         ...               ...              ...      ...         ...  ...   \n",
       "426829   branca                 1                2  privada  35132287.0  ...   \n",
       "428241   branca                 1                2  privada  35132287.0  ...   \n",
       "443242  amarela                 1                2  privada  35132287.0  ...   \n",
       "462446   branca                 1                2  privada  35132287.0  ...   \n",
       "483420    parda                 1                2  privada  35132287.0  ...   \n",
       "\n",
       "       TP_STATUS_REDACAO  COMP1  COMP2  COMP3  COMP4  COMP5  NOTA_REDACAO  \\\n",
       "17                   1.0  160.0  140.0  140.0  160.0  160.0         760.0   \n",
       "10760                1.0  180.0  200.0  200.0  200.0  140.0         920.0   \n",
       "13315                1.0  160.0  140.0  160.0  200.0  120.0         780.0   \n",
       "20006                1.0  140.0  180.0  160.0  180.0  140.0         800.0   \n",
       "26697                1.0  160.0  200.0  200.0  200.0  200.0         960.0   \n",
       "...                  ...    ...    ...    ...    ...    ...           ...   \n",
       "426829               1.0  160.0  120.0  160.0  140.0  160.0         740.0   \n",
       "428241               1.0  120.0  120.0  120.0  120.0  100.0         580.0   \n",
       "443242               1.0  140.0  200.0  160.0  160.0  140.0         800.0   \n",
       "462446               1.0  120.0  160.0  140.0  180.0  120.0         720.0   \n",
       "483420               1.0  180.0  200.0  180.0  160.0  180.0         900.0   \n",
       "\n",
       "        INTERNET   residuos    previsao  \n",
       "17           Sim  -4.498054  764.498054  \n",
       "10760        Sim  33.309358  886.690642  \n",
       "13315        Sim  -5.718021  785.718021  \n",
       "20006        Sim -26.432059  826.432059  \n",
       "26697        Sim   1.349594  958.650406  \n",
       "...          ...        ...         ...  \n",
       "426829       Sim  35.760528  704.239472  \n",
       "428241       Sim -17.683137  597.683137  \n",
       "443242       Sim -17.497499  817.497499  \n",
       "462446       Sim -56.783460  776.783460  \n",
       "483420       Sim  34.529325  865.470675  \n",
       "\n",
       "[130 rows x 30 columns]"
      ]
     },
     "execution_count": 60,
     "metadata": {},
     "output_type": "execute_result"
    }
   ],
   "source": [
    "colegiox"
   ]
  },
  {
   "cell_type": "markdown",
   "id": "f2db87c7",
   "metadata": {},
   "source": [
    "# Tarefa avaliativa 1 - 20 pts \n",
    "\n",
    "- Revisem o modelo 1 ajustado\n",
    "- Construa um novo modelo considerando novas variáveis independentes"
   ]
  },
  {
   "cell_type": "code",
   "execution_count": null,
   "id": "b788a85f",
   "metadata": {},
   "outputs": [],
   "source": []
  }
 ],
 "metadata": {
  "kernelspec": {
   "display_name": "Python 3 (ipykernel)",
   "language": "python",
   "name": "python3"
  },
  "language_info": {
   "codemirror_mode": {
    "name": "ipython",
    "version": 3
   },
   "file_extension": ".py",
   "mimetype": "text/x-python",
   "name": "python",
   "nbconvert_exporter": "python",
   "pygments_lexer": "ipython3",
   "version": "3.9.12"
  }
 },
 "nbformat": 4,
 "nbformat_minor": 5
}
